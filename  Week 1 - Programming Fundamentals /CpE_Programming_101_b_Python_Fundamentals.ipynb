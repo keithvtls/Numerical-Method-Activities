{
  "nbformat": 4,
  "nbformat_minor": 0,
  "metadata": {
    "colab": {
      "name": "CpE Programming 101.b - Python Fundamentals",
      "provenance": [],
      "collapsed_sections": [],
      "include_colab_link": true
    },
    "kernelspec": {
      "name": "python3",
      "display_name": "Python 3"
    }
  },
  "cells": [
    {
      "cell_type": "markdown",
      "metadata": {
        "id": "view-in-github",
        "colab_type": "text"
      },
      "source": [
        "<a href=\"https://colab.research.google.com/github/keithvtls/Numerical-Method-Activities/blob/main/%20Week%201%20-%20Programming%20Fundamentals%20/CpE_Programming_101_b_Python_Fundamentals.ipynb\" target=\"_parent\"><img src=\"https://colab.research.google.com/assets/colab-badge.svg\" alt=\"Open In Colab\"/></a>"
      ]
    },
    {
      "cell_type": "markdown",
      "metadata": {
        "id": "QnAdk8hy7Bl9"
      },
      "source": [
        "# **Welcome to Python Fundamentals**\r\n",
        "***by N.K Vitales © 2021***\r\n",
        "\r\n",
        "In this module, we are going to establish or review our skills in Python programming. In this notebook we are going to cover:\r\n",
        "* Variables and Data Types \r\n",
        "* Operations\r\n",
        "* Input and Output Operations\r\n",
        "* Logic Control\r\n",
        "* Iterables\r\n",
        "* Functions"
      ]
    },
    {
      "cell_type": "markdown",
      "metadata": {
        "id": "T6ABRAjTT1Ta"
      },
      "source": [
        "## **Variable and Data Types**\r\n",
        "\r\n",
        "Variable are containers for storing data values, which this stored data has different types that can do different things [1][2].\r\n",
        "\r\n",
        "Python has the following data types built-in by default, in these categories [1]:\r\n",
        "\r\n",
        "* Text Type:\tstr\r\n",
        "* Numeric Types:\tint, float, complex\r\n",
        "* Sequence Types:\tlist, tuple, range\r\n",
        "* Mapping Type:\tdict\r\n",
        "* Set Types:\tset, frozenset\r\n",
        "* Boolean Type:\tbool\r\n",
        "* Binary Types:\tbytes, bytearray, memoryview"
      ]
    },
    {
      "cell_type": "code",
      "metadata": {
        "id": "G8JI3DTZ616F"
      },
      "source": [
        "# It doesn't need to used the print() function if it doesn't need to format, by just using the variable it can already get the values\r\n",
        "\r\n",
        "x = 1\r\n",
        "a,b = 0, -1"
      ],
      "execution_count": null,
      "outputs": []
    },
    {
      "cell_type": "markdown",
      "metadata": {
        "id": "hYoQLRPGErE-"
      },
      "source": [
        "To get the data type by using the type() function it can determine what kind of data type [2]."
      ]
    },
    {
      "cell_type": "code",
      "metadata": {
        "id": "QLT9rz2dUJ95",
        "colab": {
          "base_uri": "https://localhost:8080/"
        },
        "outputId": "8a2de245-8e2a-41a6-d799-c89c46d8f285"
      },
      "source": [
        "type(x)"
      ],
      "execution_count": null,
      "outputs": [
        {
          "output_type": "execute_result",
          "data": {
            "text/plain": [
              "int"
            ]
          },
          "metadata": {
            "tags": []
          },
          "execution_count": 2
        }
      ]
    },
    {
      "cell_type": "code",
      "metadata": {
        "id": "TR_rvX4SUWqx",
        "colab": {
          "base_uri": "https://localhost:8080/"
        },
        "outputId": "12c393fe-5b50-4ae4-98d8-a9f61da591c0"
      },
      "source": [
        "y = 1.0\r\n",
        "type(y)"
      ],
      "execution_count": null,
      "outputs": [
        {
          "output_type": "execute_result",
          "data": {
            "text/plain": [
              "float"
            ]
          },
          "metadata": {
            "tags": []
          },
          "execution_count": 3
        }
      ]
    },
    {
      "cell_type": "code",
      "metadata": {
        "id": "FqV2upOiXcnC",
        "colab": {
          "base_uri": "https://localhost:8080/"
        },
        "outputId": "944244c9-da42-4d48-f291-306c6c87014b"
      },
      "source": [
        "# By specifying the data type this will be converted into another type this is called casting. That the 'x\r\n",
        "\r\n",
        "x = float(x)\r\n",
        "type(x)"
      ],
      "execution_count": null,
      "outputs": [
        {
          "output_type": "execute_result",
          "data": {
            "text/plain": [
              "float"
            ]
          },
          "metadata": {
            "tags": []
          },
          "execution_count": 4
        }
      ]
    },
    {
      "cell_type": "code",
      "metadata": {
        "id": "2tuyqwmyXiDb",
        "colab": {
          "base_uri": "https://localhost:8080/"
        },
        "outputId": "1ffd167f-4706-405f-c9c7-0b282fae10df"
      },
      "source": [
        "s,t,u = \"0\", '1', 'one'\r\n",
        "type(s)"
      ],
      "execution_count": null,
      "outputs": [
        {
          "output_type": "execute_result",
          "data": {
            "text/plain": [
              "str"
            ]
          },
          "metadata": {
            "tags": []
          },
          "execution_count": 5
        }
      ]
    },
    {
      "cell_type": "code",
      "metadata": {
        "id": "6JwWqHx3XlmB",
        "colab": {
          "base_uri": "https://localhost:8080/"
        },
        "outputId": "eefe2602-9e7d-4eb8-c419-2c2d78f0ed9c"
      },
      "source": [
        "# But if a string will be converted as a integer this will gave an error\r\n",
        "\r\n",
        "s_int = int(s)\r\n",
        "s_int"
      ],
      "execution_count": null,
      "outputs": [
        {
          "output_type": "execute_result",
          "data": {
            "text/plain": [
              "0"
            ]
          },
          "metadata": {
            "tags": []
          },
          "execution_count": 6
        }
      ]
    },
    {
      "cell_type": "markdown",
      "metadata": {
        "id": "9RgPwQR4YVG5"
      },
      "source": [
        "## Operations\r\n",
        "\r\n",
        "When the existance of a variable had veen known it can now begin to operate with by assigning a value into the variable."
      ]
    },
    {
      "cell_type": "markdown",
      "metadata": {
        "id": "mvoS_zuJYbsg"
      },
      "source": [
        "### **Arithmetic**\r\n",
        "\r\n",
        "Arithmetic operators are used with numerical values to execute basic mathematical operations [3]:"
      ]
    },
    {
      "cell_type": "code",
      "metadata": {
        "id": "DSjUO0KcYoE-"
      },
      "source": [
        "a,b,c,d = 2.0, -0.5, 0, -32"
      ],
      "execution_count": null,
      "outputs": []
    },
    {
      "cell_type": "code",
      "metadata": {
        "id": "o_kk0XFzYX9o",
        "colab": {
          "base_uri": "https://localhost:8080/"
        },
        "outputId": "591e998c-83ab-4056-bf5e-fea4f5745073"
      },
      "source": [
        "### Addition\r\n",
        "S = a+b\r\n",
        "S"
      ],
      "execution_count": null,
      "outputs": [
        {
          "output_type": "execute_result",
          "data": {
            "text/plain": [
              "1.5"
            ]
          },
          "metadata": {
            "tags": []
          },
          "execution_count": 8
        }
      ]
    },
    {
      "cell_type": "code",
      "metadata": {
        "id": "TC5oFq3MY4jk",
        "colab": {
          "base_uri": "https://localhost:8080/"
        },
        "outputId": "88cc7bb2-bd9a-4eaf-9b56-98a8fbe2e3d5"
      },
      "source": [
        "### Subtraction\r\n",
        "D = b-d\r\n",
        "D"
      ],
      "execution_count": null,
      "outputs": [
        {
          "output_type": "execute_result",
          "data": {
            "text/plain": [
              "31.5"
            ]
          },
          "metadata": {
            "tags": []
          },
          "execution_count": 9
        }
      ]
    },
    {
      "cell_type": "code",
      "metadata": {
        "id": "j0bGayj5Y9wr",
        "colab": {
          "base_uri": "https://localhost:8080/"
        },
        "outputId": "00597615-9ae9-44fa-ba6a-68f6e3e9a82a"
      },
      "source": [
        "### Multiplication\r\n",
        "P = a*d\r\n",
        "P"
      ],
      "execution_count": null,
      "outputs": [
        {
          "output_type": "execute_result",
          "data": {
            "text/plain": [
              "-64.0"
            ]
          },
          "metadata": {
            "tags": []
          },
          "execution_count": 10
        }
      ]
    },
    {
      "cell_type": "code",
      "metadata": {
        "id": "FnMWmq5LZLEU",
        "colab": {
          "base_uri": "https://localhost:8080/"
        },
        "outputId": "12f71e4b-7e39-4a38-96fd-cf431b1fdc6d"
      },
      "source": [
        "### Division\r\n",
        "Q = c/a\r\n",
        "Q"
      ],
      "execution_count": null,
      "outputs": [
        {
          "output_type": "execute_result",
          "data": {
            "text/plain": [
              "0.0"
            ]
          },
          "metadata": {
            "tags": []
          },
          "execution_count": 11
        }
      ]
    },
    {
      "cell_type": "code",
      "metadata": {
        "colab": {
          "base_uri": "https://localhost:8080/"
        },
        "id": "xdxaxpO1Nbdl",
        "outputId": "f4fac637-1d58-47f9-f27f-7da48db1c333"
      },
      "source": [
        "alpha = 10e-6\r\n",
        "R = a/(c+alpha)\r\n",
        "print(R)\r\n",
        "print(round(R,3))\r\n",
        "print(int(R)) # Truncation "
      ],
      "execution_count": null,
      "outputs": [
        {
          "output_type": "stream",
          "text": [
            "199999.99999999997\n",
            "200000.0\n",
            "199999\n"
          ],
          "name": "stdout"
        }
      ]
    },
    {
      "cell_type": "code",
      "metadata": {
        "id": "cQeVcFIWZd8o",
        "colab": {
          "base_uri": "https://localhost:8080/"
        },
        "outputId": "e2978ac8-acd0-4e88-d53a-f70d710f0fb5"
      },
      "source": [
        "### Floor Division\r\n",
        "Fq = a//b\r\n",
        "Fq"
      ],
      "execution_count": null,
      "outputs": [
        {
          "output_type": "execute_result",
          "data": {
            "text/plain": [
              "-4.0"
            ]
          },
          "metadata": {
            "tags": []
          },
          "execution_count": 14
        }
      ]
    },
    {
      "cell_type": "code",
      "metadata": {
        "colab": {
          "base_uri": "https://localhost:8080/"
        },
        "id": "0HJ-QmkPPjza",
        "outputId": "13aa1b09-fdae-4c82-b132-44ae6c6c56d3"
      },
      "source": [
        "Fr = a//(c+alpha)\r\n",
        "Fr"
      ],
      "execution_count": null,
      "outputs": [
        {
          "output_type": "execute_result",
          "data": {
            "text/plain": [
              "199999.0"
            ]
          },
          "metadata": {
            "tags": []
          },
          "execution_count": 15
        }
      ]
    },
    {
      "cell_type": "code",
      "metadata": {
        "id": "YLaUu6APZSzR",
        "colab": {
          "base_uri": "https://localhost:8080/"
        },
        "outputId": "78a0c66c-0bfa-4532-b6e4-d1f32bcb6a95"
      },
      "source": [
        "### Exponentiation\r\n",
        "E = a**b\r\n",
        "E"
      ],
      "execution_count": null,
      "outputs": [
        {
          "output_type": "execute_result",
          "data": {
            "text/plain": [
              "0.7071067811865476"
            ]
          },
          "metadata": {
            "tags": []
          },
          "execution_count": 16
        }
      ]
    },
    {
      "cell_type": "code",
      "metadata": {
        "id": "uf_0sf4CZ1JT",
        "colab": {
          "base_uri": "https://localhost:8080/"
        },
        "outputId": "d8e4d2af-5ec6-4c69-de96-d428cdbf95ce"
      },
      "source": [
        "### Modulo\r\n",
        "mod = d%a\r\n",
        "mod"
      ],
      "execution_count": null,
      "outputs": [
        {
          "output_type": "execute_result",
          "data": {
            "text/plain": [
              "0.0"
            ]
          },
          "metadata": {
            "tags": []
          },
          "execution_count": 18
        }
      ]
    },
    {
      "cell_type": "code",
      "metadata": {
        "colab": {
          "base_uri": "https://localhost:8080/"
        },
        "id": "ac2I_Qh7Q1cZ",
        "outputId": "9eb59ee9-e711-4f6c-d325-2d00b1cc5a60"
      },
      "source": [
        "mod_ex = 13%5\r\n",
        "mod_ex"
      ],
      "execution_count": null,
      "outputs": [
        {
          "output_type": "execute_result",
          "data": {
            "text/plain": [
              "3"
            ]
          },
          "metadata": {
            "tags": []
          },
          "execution_count": 19
        }
      ]
    },
    {
      "cell_type": "markdown",
      "metadata": {
        "id": "afyWvb1ZaJJ6"
      },
      "source": [
        "### **Assignment Operations**\r\n",
        "\r\n",
        "\r\n",
        "Assignment operators are used to assign values to the following variables [3]:"
      ]
    },
    {
      "cell_type": "code",
      "metadata": {
        "id": "rMZ8r4WhanaE"
      },
      "source": [
        "G, H, J, K = 0, 100, 2, 2"
      ],
      "execution_count": null,
      "outputs": []
    },
    {
      "cell_type": "code",
      "metadata": {
        "id": "IX0EbJ8RaMih",
        "colab": {
          "base_uri": "https://localhost:8080/"
        },
        "outputId": "d2bee85b-c132-41f7-bbc1-7946930ebaa2"
      },
      "source": [
        "# if the cell is keep on runnng without declaring the variable it will keeps on adding to its self\r\n",
        "\r\n",
        "G = 0\r\n",
        "G += a\r\n",
        "G"
      ],
      "execution_count": null,
      "outputs": [
        {
          "output_type": "execute_result",
          "data": {
            "text/plain": [
              "2.0"
            ]
          },
          "metadata": {
            "tags": []
          },
          "execution_count": 25
        }
      ]
    },
    {
      "cell_type": "code",
      "metadata": {
        "id": "aIj4hA-JaRA0",
        "colab": {
          "base_uri": "https://localhost:8080/"
        },
        "outputId": "5a108d2f-dbc7-4eb2-bcdf-aeee4e4227c1"
      },
      "source": [
        "H -= d\r\n",
        "H"
      ],
      "execution_count": null,
      "outputs": [
        {
          "output_type": "execute_result",
          "data": {
            "text/plain": [
              "228"
            ]
          },
          "metadata": {
            "tags": []
          },
          "execution_count": 29
        }
      ]
    },
    {
      "cell_type": "code",
      "metadata": {
        "id": "vuuDbAbNaXgS",
        "colab": {
          "base_uri": "https://localhost:8080/"
        },
        "outputId": "24da71d7-7d06-420c-cb46-c8db2e7576d0"
      },
      "source": [
        "J *= 2\r\n",
        "J"
      ],
      "execution_count": null,
      "outputs": [
        {
          "output_type": "execute_result",
          "data": {
            "text/plain": [
              "4"
            ]
          },
          "metadata": {
            "tags": []
          },
          "execution_count": 27
        }
      ]
    },
    {
      "cell_type": "code",
      "metadata": {
        "id": "sGVXGduUaeAj",
        "colab": {
          "base_uri": "https://localhost:8080/"
        },
        "outputId": "3bf69062-13cd-401f-d915-2b2984c5e55e"
      },
      "source": [
        "K **= 2\r\n",
        "K"
      ],
      "execution_count": null,
      "outputs": [
        {
          "output_type": "execute_result",
          "data": {
            "text/plain": [
              "16"
            ]
          },
          "metadata": {
            "tags": []
          },
          "execution_count": 31
        }
      ]
    },
    {
      "cell_type": "markdown",
      "metadata": {
        "id": "UGXuqhVNbW7R"
      },
      "source": [
        "### **Comparators**\r\n",
        "\r\n",
        "Comparators operators are used to compare two values [3]:"
      ]
    },
    {
      "cell_type": "code",
      "metadata": {
        "id": "Oj9xLaEaYeuY"
      },
      "source": [
        "res_1, res_2, res_3 = 1, 2.0, \"1\"\r\n",
        "true_val = 1.0"
      ],
      "execution_count": null,
      "outputs": []
    },
    {
      "cell_type": "code",
      "metadata": {
        "id": "GEXm6RSsbA8Q",
        "colab": {
          "base_uri": "https://localhost:8080/"
        },
        "outputId": "6cbef223-ed59-49f0-ee93-0600591bbccf"
      },
      "source": [
        "## Equality\r\n",
        "res_1 == true_val"
      ],
      "execution_count": null,
      "outputs": [
        {
          "output_type": "execute_result",
          "data": {
            "text/plain": [
              "True"
            ]
          },
          "metadata": {
            "tags": []
          },
          "execution_count": 36
        }
      ]
    },
    {
      "cell_type": "code",
      "metadata": {
        "id": "SdHk_b58bZhD",
        "colab": {
          "base_uri": "https://localhost:8080/"
        },
        "outputId": "b5bed20d-f3c9-4626-9de3-9a5e0ff9e978"
      },
      "source": [
        "## Non-equality\r\n",
        "res_2 != true_val"
      ],
      "execution_count": null,
      "outputs": [
        {
          "output_type": "execute_result",
          "data": {
            "text/plain": [
              "True"
            ]
          },
          "metadata": {
            "tags": []
          },
          "execution_count": 37
        }
      ]
    },
    {
      "cell_type": "code",
      "metadata": {
        "id": "EnA4q50JbQB5",
        "colab": {
          "base_uri": "https://localhost:8080/"
        },
        "outputId": "88f6030b-71ef-4576-bc30-fd63d9f8baa1"
      },
      "source": [
        "## Inequality\r\n",
        "t1 = res_1 > res_2\r\n",
        "t2 = res_1 < res_2/2\r\n",
        "t3 = res_1 >= res_2/2\r\n",
        "t4 = res_1 <= res_2  \r\n",
        "t1"
      ],
      "execution_count": null,
      "outputs": [
        {
          "output_type": "execute_result",
          "data": {
            "text/plain": [
              "False"
            ]
          },
          "metadata": {
            "tags": []
          },
          "execution_count": 38
        }
      ]
    },
    {
      "cell_type": "markdown",
      "metadata": {
        "id": "9WkfdvbfcC1Y"
      },
      "source": [
        "### **Logical**\r\n",
        "\r\n",
        "Logical operators are used to combine conditional statements [3]:"
      ]
    },
    {
      "cell_type": "code",
      "metadata": {
        "id": "cYVG6YeNb-Gz",
        "colab": {
          "base_uri": "https://localhost:8080/"
        },
        "outputId": "3e3ee08e-4f8d-4f54-ec9b-8bd28747f320"
      },
      "source": [
        "res_1 == true_val"
      ],
      "execution_count": null,
      "outputs": [
        {
          "output_type": "execute_result",
          "data": {
            "text/plain": [
              "True"
            ]
          },
          "metadata": {
            "tags": []
          },
          "execution_count": 39
        }
      ]
    },
    {
      "cell_type": "code",
      "metadata": {
        "id": "rLe6hpkHcN-z",
        "colab": {
          "base_uri": "https://localhost:8080/"
        },
        "outputId": "2b4f5ebd-ee50-4560-f714-010b9f0ae45c"
      },
      "source": [
        "## identity\r\n",
        "\r\n",
        "res_1 is true_val"
      ],
      "execution_count": null,
      "outputs": [
        {
          "output_type": "execute_result",
          "data": {
            "text/plain": [
              "False"
            ]
          },
          "metadata": {
            "tags": []
          },
          "execution_count": 40
        }
      ]
    },
    {
      "cell_type": "code",
      "metadata": {
        "id": "tr5qxHQmcO-C",
        "colab": {
          "base_uri": "https://localhost:8080/"
        },
        "outputId": "b2dc80ad-4081-49fd-9996-d711cc74478b"
      },
      "source": [
        "res_1 is not true_val"
      ],
      "execution_count": null,
      "outputs": [
        {
          "output_type": "execute_result",
          "data": {
            "text/plain": [
              "True"
            ]
          },
          "metadata": {
            "tags": []
          },
          "execution_count": 41
        }
      ]
    },
    {
      "cell_type": "code",
      "metadata": {
        "id": "3GU72N-Gcslz",
        "colab": {
          "base_uri": "https://localhost:8080/"
        },
        "outputId": "66c90abf-568b-439f-dc4b-a448dd858ccf"
      },
      "source": [
        "p, q = True, False\r\n",
        "conj = p and q\r\n",
        "conj"
      ],
      "execution_count": null,
      "outputs": [
        {
          "output_type": "execute_result",
          "data": {
            "text/plain": [
              "False"
            ]
          },
          "metadata": {
            "tags": []
          },
          "execution_count": 42
        }
      ]
    },
    {
      "cell_type": "code",
      "metadata": {
        "id": "ihMxcT6KcvQj",
        "colab": {
          "base_uri": "https://localhost:8080/"
        },
        "outputId": "28ccf2d6-7ba6-4e4e-961f-0a9c2be163ab"
      },
      "source": [
        "p, q = True, False\r\n",
        "disj = p or q\r\n",
        "disj"
      ],
      "execution_count": null,
      "outputs": [
        {
          "output_type": "execute_result",
          "data": {
            "text/plain": [
              "True"
            ]
          },
          "metadata": {
            "tags": []
          },
          "execution_count": 43
        }
      ]
    },
    {
      "cell_type": "code",
      "metadata": {
        "colab": {
          "base_uri": "https://localhost:8080/"
        },
        "id": "qnwgRNniWe8m",
        "outputId": "0e9a4035-7bb6-43c6-daf1-03fd3505cf89"
      },
      "source": [
        "not(p)"
      ],
      "execution_count": null,
      "outputs": [
        {
          "output_type": "execute_result",
          "data": {
            "text/plain": [
              "False"
            ]
          },
          "metadata": {
            "tags": []
          },
          "execution_count": 44
        }
      ]
    },
    {
      "cell_type": "code",
      "metadata": {
        "id": "T-QfmeYgcyGQ",
        "colab": {
          "base_uri": "https://localhost:8080/"
        },
        "outputId": "e3ec429c-4098-4613-a553-f554664a75ad"
      },
      "source": [
        "p, q = True, False\r\n",
        "nand = not(p and q)\r\n",
        "demorgan_nand = not p or not q\r\n",
        "nand == demorgan_nand"
      ],
      "execution_count": null,
      "outputs": [
        {
          "output_type": "execute_result",
          "data": {
            "text/plain": [
              "True"
            ]
          },
          "metadata": {
            "tags": []
          },
          "execution_count": 47
        }
      ]
    },
    {
      "cell_type": "code",
      "metadata": {
        "id": "2HL7SlVbc10k",
        "colab": {
          "base_uri": "https://localhost:8080/"
        },
        "outputId": "4cc15032-5c37-4bae-e3bb-9ffc44629bbb"
      },
      "source": [
        "'''\r\n",
        "(~p^q)v(p^~q) xor\r\n",
        "~[(~p^~q)v(p^q)] xnor\r\n",
        "(~p^q)V(p~q) xnor -- bidir\r\n",
        "'''\r\n",
        "\r\n",
        "p, q = True, False\r\n",
        "xor = (not p and q) or (p and not q)\r\n",
        "xor"
      ],
      "execution_count": null,
      "outputs": [
        {
          "output_type": "execute_result",
          "data": {
            "text/plain": [
              "True"
            ]
          },
          "metadata": {
            "tags": []
          },
          "execution_count": 1
        }
      ]
    },
    {
      "cell_type": "markdown",
      "metadata": {
        "id": "AQx4DKafYffJ"
      },
      "source": [
        "### **I/O**\r\n",
        "\r\n",
        "To get an input to a user to do this Python had provided an input() function."
      ]
    },
    {
      "cell_type": "code",
      "metadata": {
        "id": "Q-DVERG5Yk9w",
        "colab": {
          "base_uri": "https://localhost:8080/"
        },
        "outputId": "9f7a2e29-792e-47dd-d4ae-d52e8db1c9d5"
      },
      "source": [
        "print(\"Hello World\")"
      ],
      "execution_count": null,
      "outputs": [
        {
          "output_type": "stream",
          "text": [
            "Hello World\n"
          ],
          "name": "stdout"
        }
      ]
    },
    {
      "cell_type": "code",
      "metadata": {
        "id": "fS5wN51beSVF"
      },
      "source": [
        "cnt = 1"
      ],
      "execution_count": null,
      "outputs": []
    },
    {
      "cell_type": "code",
      "metadata": {
        "id": "hKNaUXmdZdUo",
        "colab": {
          "base_uri": "https://localhost:8080/"
        },
        "outputId": "de7509c1-5619-49cb-f758-b985288abae9"
      },
      "source": [
        "string = \"Hello World\"\r\n",
        "print(string, \", Current run count is:\", cnt)\r\n",
        "cnt += 1"
      ],
      "execution_count": null,
      "outputs": [
        {
          "output_type": "stream",
          "text": [
            "Hello World , Current run count is: 5\n"
          ],
          "name": "stdout"
        }
      ]
    },
    {
      "cell_type": "code",
      "metadata": {
        "id": "15_WdzEZcOVX",
        "colab": {
          "base_uri": "https://localhost:8080/"
        },
        "outputId": "a8cbdecb-ebd3-4945-d283-4aba6355dc54"
      },
      "source": [
        "print(f\"{string}, Current count is: {cnt}\")\r\n",
        "cnt += 1"
      ],
      "execution_count": null,
      "outputs": [
        {
          "output_type": "stream",
          "text": [
            "Hello World, Current count is: 3\n"
          ],
          "name": "stdout"
        }
      ]
    },
    {
      "cell_type": "code",
      "metadata": {
        "id": "5m9XtFOPcOXo",
        "colab": {
          "base_uri": "https://localhost:8080/"
        },
        "outputId": "d6286d5a-6c69-4c94-f5ae-a568d22599b4"
      },
      "source": [
        "sem_grade = 82.243564657461234\r\n",
        "name = \"Juan\"\r\n",
        "print(\"Hello {}, your semestral grade is: {}\".format(name, sem_grade))"
      ],
      "execution_count": null,
      "outputs": [
        {
          "output_type": "stream",
          "text": [
            "Hello Juan, your semestral grade is: 82.24356465746123\n"
          ],
          "name": "stdout"
        }
      ]
    },
    {
      "cell_type": "code",
      "metadata": {
        "id": "SMJx6bTnfdgZ",
        "colab": {
          "base_uri": "https://localhost:8080/"
        },
        "outputId": "33daa892-acad-497b-b5f0-88a450df56ee"
      },
      "source": [
        "w_pg, w_mg, w_fg = 0.3, 0.3, 0.4\r\n",
        "print(\"The weights of your semestral grades are:\\\r\n",
        "\\n\\t{:.2%} for Prelims\\\r\n",
        "\\n\\t{:.2%} for Midterms, and\\\r\n",
        "\\n\\t{:.2%} for Finals.\".format(w_pg, w_mg, w_fg))"
      ],
      "execution_count": null,
      "outputs": [
        {
          "output_type": "stream",
          "text": [
            "The weights of your semestral grades are:\n",
            "\t30.00% for Prelims\n",
            "\t30.00% for Midterms, and\n",
            "\t40.00% for Finals.\n"
          ],
          "name": "stdout"
        }
      ]
    },
    {
      "cell_type": "code",
      "metadata": {
        "id": "Ob2I_zR3jAcZ",
        "colab": {
          "base_uri": "https://localhost:8080/",
          "height": 52
        },
        "outputId": "073f48a3-d6a4-44c5-ea0d-b3abc59aa1b7"
      },
      "source": [
        "x = input(\"enter a number: \")\r\n",
        "x"
      ],
      "execution_count": null,
      "outputs": [
        {
          "output_type": "stream",
          "text": [
            "enter a number: Juan\n"
          ],
          "name": "stdout"
        },
        {
          "output_type": "execute_result",
          "data": {
            "application/vnd.google.colaboratory.intrinsic+json": {
              "type": "string"
            },
            "text/plain": [
              "'Juan'"
            ]
          },
          "metadata": {
            "tags": []
          },
          "execution_count": 15
        }
      ]
    },
    {
      "cell_type": "code",
      "metadata": {
        "id": "T7ODFfcMh9Pg",
        "colab": {
          "base_uri": "https://localhost:8080/"
        },
        "outputId": "6aaed7d9-f085-467f-98ad-07680666eea5"
      },
      "source": [
        "name = input(\"Kimi no nawa: \")\r\n",
        "pg = float(input(\"Enter prelim grade: \"))\r\n",
        "mg = float(input(\"Enter midterm grade: \"))\r\n",
        "fg = float(input(\"Enter finals grade: \"))\r\n",
        "sem_grade = pg*w_pg + mg*w_mg + fg*w_fg\r\n",
        "print(\"Hello {}, your semestral grade is: {}\".format(name, sem_grade))"
      ],
      "execution_count": null,
      "outputs": [
        {
          "output_type": "stream",
          "text": [
            "Kimi no nawa: Juan De la Cruz\n",
            "Enter prelim grade: 80\n",
            "Enter midterm grade: 81\n",
            "Enter finals grade: 67\n",
            "Hello Juan De la Cruz, your semestral grade is: 75.1\n"
          ],
          "name": "stdout"
        }
      ]
    },
    {
      "cell_type": "markdown",
      "metadata": {
        "id": "i0g3EothhvqL"
      },
      "source": [
        "# **Looping Statements**"
      ]
    },
    {
      "cell_type": "markdown",
      "metadata": {
        "id": "j4w90VAIjcFJ"
      },
      "source": [
        "## **While**\r\n",
        "\r\n",
        "A while loop statements is stated that the first condition to execute the loop is needed to be true, otherwose, the statement within the loop may never be executed."
      ]
    },
    {
      "cell_type": "code",
      "metadata": {
        "id": "4vtSrBPThlse",
        "colab": {
          "base_uri": "https://localhost:8080/"
        },
        "outputId": "5e875271-bdda-4ecf-af3d-ea477fca3c0b"
      },
      "source": [
        "## while loops\r\n",
        "i, j = 0, 10\r\n",
        "while(i<=j):\r\n",
        "    print(f\"{i}\\t|\\t{j}\")\r\n",
        "    i+=1"
      ],
      "execution_count": null,
      "outputs": [
        {
          "output_type": "stream",
          "text": [
            "0\t|\t10\n",
            "1\t|\t10\n",
            "2\t|\t10\n",
            "3\t|\t10\n",
            "4\t|\t10\n",
            "5\t|\t10\n",
            "6\t|\t10\n",
            "7\t|\t10\n",
            "8\t|\t10\n",
            "9\t|\t10\n",
            "10\t|\t10\n"
          ],
          "name": "stdout"
        }
      ]
    },
    {
      "cell_type": "markdown",
      "metadata": {
        "id": "Qz6AH6jRjfUg"
      },
      "source": [
        "## **For**\r\n",
        "\r\n",
        "A for loop is used for iterating over a sequence (that is either a list, a tuple, a dictionary, a set, or a string). With the for loop we can execute a set of statements, once for each item in a list, tuple, set etc [4]"
      ]
    },
    {
      "cell_type": "code",
      "metadata": {
        "id": "q0DUwfRkjZY7",
        "colab": {
          "base_uri": "https://localhost:8080/"
        },
        "outputId": "4c605a6e-9640-44e0-b696-b84c83f71886"
      },
      "source": [
        "# for(int i=0; i<10; i++){\r\n",
        "# printf(i)\r\n",
        "# }\r\n",
        "\r\n",
        "i=0\r\n",
        "for i in range(10):\r\n",
        "    print(i)"
      ],
      "execution_count": null,
      "outputs": [
        {
          "output_type": "stream",
          "text": [
            "0\n",
            "1\n",
            "2\n",
            "3\n",
            "4\n",
            "5\n",
            "6\n",
            "7\n",
            "8\n",
            "9\n"
          ],
          "name": "stdout"
        }
      ]
    },
    {
      "cell_type": "code",
      "metadata": {
        "id": "zaM--lUhjiUg",
        "colab": {
          "base_uri": "https://localhost:8080/"
        },
        "outputId": "305fbe33-9d9f-4f2a-d769-273ebb4309db"
      },
      "source": [
        "playlist = [\"Heather\", \"Maniac\", \"Fake\"]\r\n",
        "print('Now Playing:\\n')\r\n",
        "for song in playlist:\r\n",
        "    print(song)"
      ],
      "execution_count": null,
      "outputs": [
        {
          "output_type": "stream",
          "text": [
            "Now Playing:\n",
            "\n",
            "Heather\n",
            "Maniac\n",
            "Fake\n"
          ],
          "name": "stdout"
        }
      ]
    },
    {
      "cell_type": "markdown",
      "metadata": {
        "id": "N6jTqTZojnSg"
      },
      "source": [
        "# **Flow Control**"
      ]
    },
    {
      "cell_type": "markdown",
      "metadata": {
        "id": "uhnsV2CijrWQ"
      },
      "source": [
        "## **Condition Statements**\r\n",
        "\r\n",
        "Python supports the usual logical conditions from mathematics [5]:\r\n",
        "\r\n",
        "* Equals: a == b\r\n",
        "* Not Equals: a != b\r\n",
        "* Less than: a < b\r\n",
        "* Less than or equal to: a <= b\r\n",
        "* Greater than: a > b\r\n",
        "* Greater than or equal to: a >= b\r\n",
        "\r\n",
        "These conditions can be used in several ways, most commonly in \"if statements\" and loops [5]."
      ]
    },
    {
      "cell_type": "code",
      "metadata": {
        "id": "seJplrJojmTg",
        "colab": {
          "base_uri": "https://localhost:8080/"
        },
        "outputId": "b7a73265-0dc3-444a-fd2d-ab5d329bea52"
      },
      "source": [
        "numeral1, numeral2 = 12, 12\r\n",
        "if(numeral1 == numeral2):\r\n",
        "    print(\"Yey\")\r\n",
        "elif(numeral1>numeral2):\r\n",
        "    print(\"Hoho\")\r\n",
        "else:\r\n",
        "    print(\"Aww\")\r\n",
        "print(\"Hip hip\")"
      ],
      "execution_count": null,
      "outputs": [
        {
          "output_type": "stream",
          "text": [
            "Yey\n",
            "Hip hip\n"
          ],
          "name": "stdout"
        }
      ]
    },
    {
      "cell_type": "markdown",
      "metadata": {
        "id": "tlnG1OKilNLo"
      },
      "source": [
        "# **Functions**\r\n",
        "\r\n",
        "A function is a block of code which only runs when it is called.\r\n",
        "It can pass data, known as parameters, into a function.\r\n",
        "A function can return data as a result [6]."
      ]
    },
    {
      "cell_type": "code",
      "metadata": {
        "id": "1iMUEipnlUKY"
      },
      "source": [
        "# void DeleteUser(int userid){\r\n",
        "#     delete(userid);\r\n",
        "# }\r\n",
        "\r\n",
        "def delete_user (userid):\r\n",
        "    print(\"Successfully deleted user: {}\".format(userid))\r\n",
        "    \r\n",
        "def delete_all_users ():\r\n",
        "    print(\"Successfully deleted all users\")"
      ],
      "execution_count": null,
      "outputs": []
    },
    {
      "cell_type": "code",
      "metadata": {
        "id": "v_TkrftylUEA",
        "colab": {
          "base_uri": "https://localhost:8080/"
        },
        "outputId": "eed9c271-c5c6-4a6a-f4b4-61120d4cecce"
      },
      "source": [
        "userid = 0\r\n",
        "delete_user(0)\r\n",
        "delete_all_users()"
      ],
      "execution_count": null,
      "outputs": [
        {
          "output_type": "stream",
          "text": [
            "Successfully deleted user: 0\n",
            "Successfully deleted all users\n"
          ],
          "name": "stdout"
        }
      ]
    },
    {
      "cell_type": "code",
      "metadata": {
        "id": "M0ffjw31lT8Y"
      },
      "source": [
        "def add(a1, a2):\r\n",
        "    return a1 + a2\r\n",
        "\r\n",
        "def power(base, exponent):\r\n",
        "    return base**exponent"
      ],
      "execution_count": null,
      "outputs": []
    },
    {
      "cell_type": "code",
      "metadata": {
        "colab": {
          "base_uri": "https://localhost:8080/"
        },
        "id": "3JtDM7SUSjnr",
        "outputId": "5fc61248-7bb2-4035-d7e4-04eef094d274"
      },
      "source": [
        "add(1,5)"
      ],
      "execution_count": null,
      "outputs": [
        {
          "output_type": "execute_result",
          "data": {
            "text/plain": [
              "6"
            ]
          },
          "metadata": {
            "tags": []
          },
          "execution_count": 25
        }
      ]
    },
    {
      "cell_type": "code",
      "metadata": {
        "colab": {
          "base_uri": "https://localhost:8080/"
        },
        "id": "LDf33BHBSoJk",
        "outputId": "90771a35-5682-48a4-e388-ce20ad075850"
      },
      "source": [
        "power(2,5)"
      ],
      "execution_count": null,
      "outputs": [
        {
          "output_type": "execute_result",
          "data": {
            "text/plain": [
              "32"
            ]
          },
          "metadata": {
            "tags": []
          },
          "execution_count": 26
        }
      ]
    },
    {
      "cell_type": "markdown",
      "metadata": {
        "id": "2_tDT01oFEGQ"
      },
      "source": [
        "### **Lambda Functions**\r\n",
        "\r\n",
        "A lambda function is a small anonymous function.\r\n",
        "A lambda function can take any number of arguments, but can only have one expression [7].\r\n",
        "\r\n"
      ]
    },
    {
      "cell_type": "code",
      "metadata": {
        "id": "tmmBNW9pFg-4"
      },
      "source": [
        "x = 4"
      ],
      "execution_count": null,
      "outputs": []
    },
    {
      "cell_type": "code",
      "metadata": {
        "id": "_9KYzCrIFCpI",
        "colab": {
          "base_uri": "https://localhost:8080/"
        },
        "outputId": "3a4188b5-e802-4b55-d24d-6ca2775eb4a8"
      },
      "source": [
        "def f(x):\r\n",
        "  return 2*(x*x)-1\r\n",
        "f(x)"
      ],
      "execution_count": null,
      "outputs": [
        {
          "output_type": "execute_result",
          "data": {
            "text/plain": [
              "31"
            ]
          },
          "metadata": {
            "tags": []
          },
          "execution_count": 28
        }
      ]
    },
    {
      "cell_type": "code",
      "metadata": {
        "id": "a2uwKwqFFafn",
        "colab": {
          "base_uri": "https://localhost:8080/"
        },
        "outputId": "6575fc2d-04b9-4469-f4d3-0ca1e69145dd"
      },
      "source": [
        "g = lambda x: 2*(x*x)-1\r\n",
        "print(g(x))"
      ],
      "execution_count": null,
      "outputs": [
        {
          "output_type": "stream",
          "text": [
            "31\n"
          ],
          "name": "stdout"
        }
      ]
    },
    {
      "cell_type": "code",
      "metadata": {
        "id": "Rjm9RFrGlMgA"
      },
      "source": [
        "'''\r\n",
        "Create a grade calculator that computes for the semestral grade of a course.\r\n",
        "Students could type their names, the name of the course, then their prelim,\r\n",
        "midterm, and final grade.\r\n",
        "The program should print the semestral grade in 2 decimal points and should\r\n",
        "display the following emojis depending on the situation:\r\n",
        "happy - when grade is greater than 70.00\r\n",
        "laughing - when grade is exactly 70.00\r\n",
        "sad - when grade is below 70.00\r\n",
        "'''\r\n",
        "happy, lol, sad = \"\\U0001F600\",\"\\U0001F923\",\"\\U0001F610\""
      ],
      "execution_count": null,
      "outputs": []
    },
    {
      "cell_type": "code",
      "metadata": {
        "colab": {
          "base_uri": "https://localhost:8080/"
        },
        "id": "eqkPuXrDXCZg",
        "outputId": "a9c4d862-29a7-4a04-8a96-4cd866c962e8"
      },
      "source": [
        "def computed_sem_grade(): \r\n",
        "    if sem_grade > 70:\r\n",
        "      print(\"Hello {}, your semestral grade in {} is {}\".format(name, course_name, \"%.2f\"%sem_grade), happy)\r\n",
        "    elif sem_grade == 70:\r\n",
        "      print(\"Hello {}, your semestral grade in {} is {}\".format(name, course_name, \"%.2f\"%sem_grade), lol)\r\n",
        "    else:\r\n",
        "      print(\"Hello {}, your semestral grade in {} is {}\".format(name, course_name, \"%.2f\"%sem_grade), sad)\r\n",
        "\r\n",
        "name = input(\"Name: \")\r\n",
        "course_name = input(\"Name of the Course: \")\r\n",
        "prelim_grade = float(input(\"Enter prelim grade: \"))\r\n",
        "midterm_grade = float(input(\"Enter midterm grade: \"))\r\n",
        "final_grade = float(input(\"Enter finals grade: \"))\r\n",
        "weighted_prelim_grade, weighted_midterm_grade, weighted_final_grade = 0.3, 0.3, 0.4\r\n",
        "sem_grade = prelim_grade*weighted_prelim_grade + midterm_grade*weighted_midterm_grade + final_grade*weighted_final_grade\r\n",
        "computed_sem_grade()"
      ],
      "execution_count": null,
      "outputs": [
        {
          "output_type": "stream",
          "text": [
            "Name: Keith\n",
            "Name of the Course: DE\n",
            "Enter prelim grade: 71\n",
            "Enter midterm grade: 67\n",
            "Enter finals grade: 70\n",
            "Hello Keith, your semestral grade in DE is 69.40 😐\n"
          ],
          "name": "stdout"
        }
      ]
    },
    {
      "cell_type": "markdown",
      "metadata": {
        "id": "DSVpGUMO4zvT"
      },
      "source": [
        "### **References**\r\n",
        "\r\n",
        "[1] W3schools (2021). [***W3schools: Python Variables***](https://www.w3schools.com/python/python_variables.asp)\r\n",
        "\r\n",
        "[2] W3schools (2021). [***W3schools: Python Data Types***](https://www.w3schools.com/python/python_datatypes.asp)\r\n",
        "\r\n",
        "[3] W3schools (2021). [***W3schools: Python Operators***](https://www.w3schools.com/python/python_operators.asp)\r\n",
        "\r\n",
        "[4] W3schools (2021). [***W3schools: Python For Loops***](https://www.w3schools.com/python/python_for_loops.asp)\r\n",
        "\r\n",
        "[5] W3schools (2021). [***W3schools: Python Conditions***](https://www.w3schools.com/python/python_conditions.asp)\r\n",
        "\r\n",
        "[6] W3schools (2021). [***W3schools: Python Functions***](https://www.w3schools.com/python/python_functions.asp)\r\n",
        "\r\n",
        "[7] W3schools (2021). [***W3schools: Python Lambda***](https://www.w3schools.com/python/python_lambda.asp)"
      ]
    }
  ]
}