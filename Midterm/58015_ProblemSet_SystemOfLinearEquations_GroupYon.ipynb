{
  "nbformat": 4,
  "nbformat_minor": 0,
  "metadata": {
    "colab": {
      "name": "58015_ProblemSet:SystemOfLinearEquations_GroupYon",
      "provenance": [],
      "collapsed_sections": [],
      "include_colab_link": true
    },
    "kernelspec": {
      "name": "python3",
      "display_name": "Python 3"
    },
    "language_info": {
      "name": "python"
    }
  },
  "cells": [
    {
      "cell_type": "markdown",
      "metadata": {
        "id": "view-in-github",
        "colab_type": "text"
      },
      "source": [
        "<a href=\"https://colab.research.google.com/github/keithvtls/Numerical-Method-Activities/blob/main/Midterm/58015_ProblemSet_SystemOfLinearEquations_GroupYon.ipynb\" target=\"_parent\"><img src=\"https://colab.research.google.com/assets/colab-badge.svg\" alt=\"Open In Colab\"/></a>"
      ]
    },
    {
      "cell_type": "markdown",
      "metadata": {
        "id": "D8TsR0yQrx8U"
      },
      "source": [
        "## Members:\n",
        "\n",
        "D.M. Fajardo © 2021\n",
        "\n",
        "I.J. Timbungco © 2021\n",
        "\n",
        "M.A. Rodriguez © 2021\n",
        "\n",
        "N.K. Vitales © 2021"
      ]
    },
    {
      "cell_type": "markdown",
      "metadata": {
        "id": "Yv0o-ius9u2C"
      },
      "source": [
        "## Problem: \n",
        "\n",
        "The currents running through an electrical system are given by the following system of equations.  The three currents, I1, I2, and I3, are measured in amps.  Solve the system to find the currents in this circuit. [[1](http://www.algebralab.org/practice/practice.aspx?file=Word_ApplicationProblemFor3EquationsWith3Variables.xml)]\n",
        "\n",
        "$$\n",
        "I_1 + 2I_2 - I_3 = 0.425 \\\\\n",
        "3I_1 - I_2 + 2I_3 = 2.225\\\\\n",
        "5I_1 + I_2 + 2I_3 = 3.775\\\\\n",
        "$$"
      ]
    },
    {
      "cell_type": "markdown",
      "metadata": {
        "id": "8P8enKIK96cZ"
      },
      "source": [
        "Standard Bracketed Form:\n",
        "\n",
        "$$ \\left\\{\n",
        "    \\begin{array}\\\\\n",
        "        I_1 + 2I_2 - I_3 = 0.425 \\\\\n",
        "        3I_1 - I_2 + 2I_3 = 2.225\\\\\n",
        "        5I_1 + I_2 + 2I_3 = 3.775\\\\\n",
        "    \\end{array}\n",
        "\\right.$$\n",
        "\n",
        "Linear Combination Form (Matrix):\n",
        "\n",
        "$$\n",
        "\\begin{bmatrix}1&2&-1\\\\3&-1&2\\\\5&1&2\\end{bmatrix} \\cdot \\begin{bmatrix}I_1\\\\I_2\\\\I_3\\end{bmatrix} = \\begin{bmatrix}0.425\\\\2.225\\\\3.775\\end{bmatrix}\n",
        "$$"
      ]
    },
    {
      "cell_type": "markdown",
      "metadata": {
        "id": "IPE5M5kitUc2"
      },
      "source": [
        "### Programmed Algorithm:"
      ]
    },
    {
      "cell_type": "code",
      "metadata": {
        "id": "GtIxJdV6rzJY"
      },
      "source": [
        "import numpy as np\n",
        "import matplotlib.pyplot as plt  "
      ],
      "execution_count": null,
      "outputs": []
    },
    {
      "cell_type": "code",
      "metadata": {
        "id": "qrKX-H5RrwA8"
      },
      "source": [
        "X = np.array([\n",
        "    [1,2,-1],\n",
        "    [3,-1,2],\n",
        "    [5,1,2]\n",
        "])\n",
        "Y = np.array([\n",
        "    [0.425],\n",
        "    [2.225],\n",
        "    [3.775]\n",
        "])"
      ],
      "execution_count": null,
      "outputs": []
    },
    {
      "cell_type": "code",
      "metadata": {
        "colab": {
          "base_uri": "https://localhost:8080/"
        },
        "id": "qdncrNEKrr69",
        "outputId": "a03eb287-2b62-4ca9-a80c-c341f0088488"
      },
      "source": [
        "currents = np.linalg.solve(X, Y)\n",
        "for i in range(currents.size):\n",
        "    print(f'I{i+1} = {round(float(currents[i]),2)} A')"
      ],
      "execution_count": null,
      "outputs": [
        {
          "output_type": "stream",
          "text": [
            "I1 = 0.37 A\n",
            "I2 = 0.4 A\n",
            "I3 = 0.75 A\n"
          ],
          "name": "stdout"
        }
      ]
    },
    {
      "cell_type": "markdown",
      "metadata": {
        "id": "b6N5pXsltN_l"
      },
      "source": [
        "### Vector Visualization:"
      ]
    },
    {
      "cell_type": "code",
      "metadata": {
        "colab": {
          "base_uri": "https://localhost:8080/",
          "height": 319
        },
        "id": "xFnILyFNtRxI",
        "outputId": "68e9017d-605b-4fc0-bd53-f408665f21a8"
      },
      "source": [
        "plt.figure(figsize=(5,5)) \n",
        "plt.plot(currents, 'o-')\n",
        "plt.title('Vector Visualization')\n",
        "plt.ylabel('Current')\n",
        "plt.tick_params(bottom=False,\n",
        "                labelbottom=False)\n",
        "plt.ylim(0.35,0.8)\n",
        "plt.grid()\n",
        "plt.show()"
      ],
      "execution_count": null,
      "outputs": [
        {
          "output_type": "display_data",
          "data": {
            "image/png": "[encoded data removed]",
            "text/plain": [
              "<Figure size 360x360 with 1 Axes>"
            ]
          },
          "metadata": {
            "tags": [],
            "needs_background": "light"
          }
        }
      ]
    },
    {
      "cell_type": "markdown",
      "metadata": {
        "id": "jr5j7TwwAD-K"
      },
      "source": [
        "### References:\n",
        "\n",
        "[1] AlgebraLAB (2021) [**AlgebraLAB: Word Problem Exercises: Applications of 3 Equations with 3 Variables**](http://www.algebralab.org/practice/practice.aspx?file=Word_ApplicationProblemFor3EquationsWith3Variables.xml)"
      ]
    }
  ]
}