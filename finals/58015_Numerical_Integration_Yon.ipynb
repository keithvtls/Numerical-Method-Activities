{
  "nbformat": 4,
  "nbformat_minor": 0,
  "metadata": {
    "colab": {
      "name": "58015_Numerical_Integration_Yon",
      "provenance": [],
      "collapsed_sections": [],
      "include_colab_link": true
    },
    "kernelspec": {
      "name": "python3",
      "display_name": "Python 3"
    },
    "language_info": {
      "name": "python"
    }
  },
  "cells": [
    {
      "cell_type": "markdown",
      "metadata": {
        "id": "view-in-github",
        "colab_type": "text"
      },
      "source": [
        "<a href=\"https://colab.research.google.com/github/keithvtls/Numerical-Method-Activities/blob/main/finals/58015_Numerical_Integration_Yon.ipynb\" target=\"_parent\"><img src=\"https://colab.research.google.com/assets/colab-badge.svg\" alt=\"Open In Colab\"/></a>"
      ]
    },
    {
      "cell_type": "markdown",
      "metadata": {
        "id": "guOoIJ0cQRu4"
      },
      "source": [
        "## Members:\n",
        "\n",
        "D.M. Fajardo © 2021\n",
        "\n",
        "I.J. Timbungco © 2021\n",
        "\n",
        "M.A. Rodriguez © 2021\n",
        "\n",
        "N.K. Vitales © 2021"
      ]
    },
    {
      "cell_type": "code",
      "metadata": {
        "id": "WlTVlfsm-ANx"
      },
      "source": [
        "import numpy as np\n",
        "import scipy.integrate as integrate\n",
        "import matplotlib.pyplot as plt "
      ],
      "execution_count": null,
      "outputs": []
    },
    {
      "cell_type": "markdown",
      "metadata": {
        "id": "hC0u3sTTfo8T"
      },
      "source": [
        "# 1.)"
      ]
    },
    {
      "cell_type": "markdown",
      "metadata": {
        "id": "0THAM73JIbXn"
      },
      "source": [
        "# scipy.integrate_quad\n",
        "- Computes a definite integral\n",
        "- General purpose integration\n",
        "- Quad function is the powerhouse of integral functions of SciPy.\n",
        "- For larger or infinite integration bounds, the accuracy and efficiency depends on the algorithm; Passing the bounds as np.-inf, np.inf is risky.  \n",
        "\n",
        "References: \n",
        "\n",
        "[1] SciPy.org (2021). **[SciPy.org: scipy.integrate.quad](https://docs.scipy.org/doc/scipy/reference/generated/scipy.integrate.quad.html)**\n",
        "\n",
        "[2] stackoverflow (2021). **[stackoverflow: How does scipy.integrate.quad know when to stop?](https://stackoverflow.com/questions/49738870/how-does-scipy-integrate-quad-know-when-to-stop)**\n",
        "\n",
        "[3] eSparkBiz (2021). **[esparkinfo: python integration](https://www.esparkinfo.com/python-integration.html)**\n",
        "\n"
      ]
    },
    {
      "cell_type": "markdown",
      "metadata": {
        "id": "eKd9_-UtQGOP"
      },
      "source": [
        "### Calculate:\n",
        "$$  \\int^3_0 (15x^4-13x^2+x)dx \\\\ $$"
      ]
    },
    {
      "cell_type": "code",
      "metadata": {
        "colab": {
          "base_uri": "https://localhost:8080/"
        },
        "id": "gpBkskSRIh4a",
        "outputId": "8f21d01c-8c4f-42d4-cc68-d46978e5585d"
      },
      "source": [
        "## Function we want to integrate\n",
        "def f(x):\n",
        "  return 15*x**4-13*x**2+x\n",
        "\n",
        "## Call quad to integrate f from 3 to 0\n",
        "answer,err = integrate.quad(f,0,3)\n",
        "print('The Numerical Integration is: {:.2f}'.format(answer))\n",
        "print('Expected Absolute Error: {}'.format(err))"
      ],
      "execution_count": null,
      "outputs": [
        {
          "output_type": "stream",
          "text": [
            "The Numerical Integration is: 616.50\n",
            "Expected Absolute Error: 6.866516429920506e-12\n"
          ],
          "name": "stdout"
        }
      ]
    },
    {
      "cell_type": "markdown",
      "metadata": {
        "id": "VCCjdVQBIpCT"
      },
      "source": [
        "### Calculate:\n",
        "$$  \\int^4_1 (cos(x)-\\frac{3}{x^5})dx \\\\ $$"
      ]
    },
    {
      "cell_type": "code",
      "metadata": {
        "colab": {
          "base_uri": "https://localhost:8080/"
        },
        "id": "RYLMlw8AIqe4",
        "outputId": "988cba56-1779-43f3-c100-fd42cc63fd47"
      },
      "source": [
        "## Function we want to integrate\n",
        "def f(x):\n",
        "  return np.cos(x)-(3/x**5)\n",
        "\n",
        "## Call quad to integrate f from 1 to 4\n",
        "answer,err = integrate.quad(f,1,4)\n",
        "print('The Numerical Integration is: {:.2f}'.format(answer))\n",
        "print('Expected Absolute Error: {}'.format(err))"
      ],
      "execution_count": null,
      "outputs": [
        {
          "output_type": "stream",
          "text": [
            "The Numerical Integration is: -2.35\n",
            "Expected Absolute Error: 1.0275756416624452e-10\n"
          ],
          "name": "stdout"
        }
      ]
    },
    {
      "cell_type": "markdown",
      "metadata": {
        "id": "PMO8OlmiIvrC"
      },
      "source": [
        "### Calculate:\n",
        "$$  \\int^2_0 log_4(x)dx $$"
      ]
    },
    {
      "cell_type": "code",
      "metadata": {
        "colab": {
          "base_uri": "https://localhost:8080/"
        },
        "id": "6qLKaSQaIzKt",
        "outputId": "0f340928-f4e8-448d-841e-a0dbaa3e5b6b"
      },
      "source": [
        "## Function we want to integrate\n",
        "def f(x):\n",
        "  return np.log(4**x)\n",
        "\n",
        "## Call quad to integrate f from 0 to 2\n",
        "answer,err = integrate.quad(f,0,2)\n",
        "print('The Numerical Integration is: {:.2f}'.format(answer))\n",
        "print('Expected Absolute Error: {}'.format(err))"
      ],
      "execution_count": null,
      "outputs": [
        {
          "output_type": "stream",
          "text": [
            "The Numerical Integration is: 2.77\n",
            "Expected Absolute Error: 3.078191837246648e-14\n"
          ],
          "name": "stdout"
        }
      ]
    },
    {
      "cell_type": "markdown",
      "metadata": {
        "id": "GY4esqsdI-3Q"
      },
      "source": [
        "# scipy.integrate_fixed quad\n",
        "\n",
        "- Computes definite integral using fixed-order Gaussian quadrature.\n",
        "- Integrate func(x) using Gaussian quadrature of order n.\n",
        "- This method is stable, convergent, and accurate\n",
        "\n",
        "Reference:\n",
        "\n",
        "[4] SciPy.org (2021). **[SciPy.org: scipy.integrate.fixed_quad](https://docs.scipy.org/doc/scipy/reference/generated/scipy.integrate.fixed_quad.html\n",
        ")**\n",
        "\n",
        "[5] Benton, Dudley. (2021). Retrieved from: **[What is the best Numerical integration method, and why?](https://www.researchgate.net/post/What_is_the_best_Numerical_integration_method_and_why/602e9389bb7f5667e27a25e2/citation/download.)**\n",
        "\n"
      ]
    },
    {
      "cell_type": "markdown",
      "metadata": {
        "id": "cIZtwdEpJCrR"
      },
      "source": [
        "### Calculate:\n",
        "$$  \\int^3_0 (15x^4-13x^2+x)dx \\\\ $$"
      ]
    },
    {
      "cell_type": "code",
      "metadata": {
        "colab": {
          "base_uri": "https://localhost:8080/"
        },
        "id": "R6IzpbS6JBcu",
        "outputId": "736da0ec-30db-42e1-9483-e79868c8d52f"
      },
      "source": [
        "## Function we want to integrate\n",
        "def f(x):\n",
        "  return 15*x**4-13*x**2+x\n",
        "\n",
        "## Call quad to integrate f from 0 to 3\n",
        "answer,err = integrate.fixed_quad(f,0,3)\n",
        "print('The Numerical Integration is: {:.2f}'.format(answer))"
      ],
      "execution_count": null,
      "outputs": [
        {
          "output_type": "stream",
          "text": [
            "The Numerical Integration is: 616.50\n"
          ],
          "name": "stdout"
        }
      ]
    },
    {
      "cell_type": "markdown",
      "metadata": {
        "id": "qNZgdhjAI-tH"
      },
      "source": [
        "### Calculate:\n",
        "$$  \\int^4_1 (cos(x)-\\frac{3}{x^5})dx \\\\ $$"
      ]
    },
    {
      "cell_type": "code",
      "metadata": {
        "colab": {
          "base_uri": "https://localhost:8080/"
        },
        "id": "pntN0MsuJRMI",
        "outputId": "c80e0030-ef1a-4fa4-8a8f-b28c845c271c"
      },
      "source": [
        "## Function we want to integrate\n",
        "def f(x):\n",
        "  return np.cos(x)-(3/x**5)\n",
        "\n",
        "## Call quad to integrate f from 1 to 4\n",
        "answer,err = integrate.fixed_quad(f,1,4)\n",
        "print('The Numerical Integration is: {:.2f}'.format(answer))"
      ],
      "execution_count": null,
      "outputs": [
        {
          "output_type": "stream",
          "text": [
            "The Numerical Integration is: -2.34\n"
          ],
          "name": "stdout"
        }
      ]
    },
    {
      "cell_type": "markdown",
      "metadata": {
        "id": "xpqmGNq3JUqu"
      },
      "source": [
        "### Calculate:\n",
        "$$  \\int^2_0 log_4(x)dx $$"
      ]
    },
    {
      "cell_type": "code",
      "metadata": {
        "colab": {
          "base_uri": "https://localhost:8080/"
        },
        "id": "Fsj1X6SMJXTg",
        "outputId": "cb274041-7df1-436d-bf89-456f9fdde00a"
      },
      "source": [
        "## Function we want to integrate\n",
        "def f(x):\n",
        "  return np.log(4**x)\n",
        "\n",
        "## Call quad to integrate f from 0 to 2\n",
        "answer,err = integrate.fixed_quad(f,0,2)\n",
        "print('The Numerical Integration is: {:.2f}'.format(answer))"
      ],
      "execution_count": null,
      "outputs": [
        {
          "output_type": "stream",
          "text": [
            "The Numerical Integration is: 2.77\n"
          ],
          "name": "stdout"
        }
      ]
    },
    {
      "cell_type": "markdown",
      "metadata": {
        "id": "eV3B9QYvP4gS"
      },
      "source": [
        "\n",
        "# 2.)"
      ]
    },
    {
      "cell_type": "code",
      "metadata": {
        "id": "yC-shqOiy_U9"
      },
      "source": [
        "# analytical solution\n",
        "a, b = 0,10\n",
        "def intf(a,b):\n",
        "    intf = ((4*b-3)**4 - (4*a-3)**4)/16\n",
        "    return intf\n",
        "asol = intf(a,b)"
      ],
      "execution_count": null,
      "outputs": []
    },
    {
      "cell_type": "markdown",
      "metadata": {
        "id": "0MDkSyaRJLLt"
      },
      "source": [
        "# Trapezoidal rule (Sample One)"
      ]
    },
    {
      "cell_type": "code",
      "metadata": {
        "id": "tvdgeeS4PjSP"
      },
      "source": [
        "def trapz_rule(func,lb,ub,size):\n",
        "  h = (ub-lb)/size # ----> size is bin\n",
        "  return h*(0.5*(func(lb)+func(ub))+np.sum(func(lb+h*np.arange(1,size))))"
      ],
      "execution_count": null,
      "outputs": []
    },
    {
      "cell_type": "code",
      "metadata": {
        "id": "Ys1lGxdVILRc"
      },
      "source": [
        "### Higher-Order Polynomials (degrees greater than 4)\n",
        "\n",
        "f = lambda x: x**5-2*x**4+3.6*x**3-0.51*x**2-1.33*x-0.2\n",
        "a, b = 0,10\n",
        "n = 1e4\n",
        "hop_tans1 = trapz_rule(f, a,b,n)\n",
        "hop_terr1 = (abs(asol-hop_tans1)/asol)*100\n"
      ],
      "execution_count": null,
      "outputs": []
    },
    {
      "cell_type": "code",
      "metadata": {
        "id": "WfT_tJNFIQkw"
      },
      "source": [
        "### Trigonometric Functions\n",
        "f = lambda x:  np.sin(2*x)-np.cos(2*x)\n",
        "a, b = 0,10\n",
        "n = 1e4\n",
        "trig_tans1 = trapz_rule(f, a,b,n)\n",
        "trig_terr1 = (abs(asol-trig_tans1)/asol)*100"
      ],
      "execution_count": null,
      "outputs": []
    },
    {
      "cell_type": "code",
      "metadata": {
        "id": "j9m_7nE6Lv3-"
      },
      "source": [
        "### Logarithmic Functions\n",
        "\n",
        "f = lambda x: np.log(x**2+1)\n",
        "a, b = 0,10\n",
        "n = 1e4\n",
        "log_tans1 = trapz_rule(f, a,b,n)\n",
        "log_terr1 = (abs(asol-log_tans1)/asol)*100"
      ],
      "execution_count": null,
      "outputs": []
    },
    {
      "cell_type": "markdown",
      "metadata": {
        "id": "kJKTVN4NIK2Q"
      },
      "source": [
        "# Trapezoidal rule (Sample Two)"
      ]
    },
    {
      "cell_type": "code",
      "metadata": {
        "id": "knA6aEbYKqH-"
      },
      "source": [
        "### Higher-Order Polynomials (degrees greater than 4)\n",
        "f = lambda x:-5*x**5-2*x**4+x**2+1.33*x-0.4\n",
        "a, b = 0,10\n",
        "n = 1e4\n",
        "hop_tans2 = trapz_rule(f, a,b,n)\n",
        "hop_terr2 = (abs(asol-hop_tans2)/asol)*100"
      ],
      "execution_count": null,
      "outputs": []
    },
    {
      "cell_type": "code",
      "metadata": {
        "id": "WCfo5nzkNiGX"
      },
      "source": [
        "### Trigonometric Functions\n",
        "\n",
        "f = lambda x: 2*np.sin(2*x)\n",
        "a, b = 0,10\n",
        "n = 1e4\n",
        "trig_tans2 = trapz_rule(f, a,b,n)\n",
        "trig_terr2 = (abs(asol-trig_tans2)/asol)*100"
      ],
      "execution_count": null,
      "outputs": []
    },
    {
      "cell_type": "code",
      "metadata": {
        "id": "FIic44imIZ3e"
      },
      "source": [
        "### Logarithmic Functions\n",
        "\n",
        "f = lambda x: np.log(x**3-0.0125*x+1.7)\n",
        "a, b = 0,10\n",
        "n = 1e4\n",
        "log_tans2 = trapz_rule(f, a,b,n)\n",
        "log_terr2 = (abs(asol-log_tans2)/asol)*100"
      ],
      "execution_count": null,
      "outputs": []
    },
    {
      "cell_type": "markdown",
      "metadata": {
        "id": "sjwBitDfJPO0"
      },
      "source": [
        "# Simpson's 1/3 Rule (Sample One)"
      ]
    },
    {
      "cell_type": "code",
      "metadata": {
        "id": "uvtO1MCc-EGR"
      },
      "source": [
        "def simp_13(func,lb,ub,divs):\n",
        "  h = (ub-lb)/divs\n",
        "  A = (func(lb)+func(ub))+ \\\n",
        "            np.sum(4*func(lb+h*np.arange(1,divs,2)))+ \\\n",
        "            np.sum(2*func(lb+h*np.arange(2,divs,2)))\n",
        "  S = (h/3)*A\n",
        "  return S"
      ],
      "execution_count": null,
      "outputs": []
    },
    {
      "cell_type": "code",
      "metadata": {
        "id": "hJe_HXTnJX_G"
      },
      "source": [
        "### Higher-Order Polynomials (degrees greater than 4)\n",
        "\n",
        "f = lambda x : x**5-2*x**4+3.6*x**3-0.51*x**2-1.33*x-0.2\n",
        "a, b = 0,10\n",
        "n = 1e4\n",
        "hop13_sans1 = simp_13(f, a,b,n)\n",
        "hop13_serr1 = (abs(asol-hop13_sans1)/asol)*100"
      ],
      "execution_count": null,
      "outputs": []
    },
    {
      "cell_type": "code",
      "metadata": {
        "id": "gfJGvoxTJazY"
      },
      "source": [
        "### Trigonometric Functions\n",
        "\n",
        "f = lambda x : np.sin(2*x)-np.cos(2*x)\n",
        "a, b = 0,10\n",
        "n = 1e4\n",
        "trig13_sans1 = simp_13(f, a,b,n)\n",
        "trig13_serr1 = (abs(asol-trig13_sans1)/asol)*100"
      ],
      "execution_count": null,
      "outputs": []
    },
    {
      "cell_type": "code",
      "metadata": {
        "id": "VWQkppqTJeNn"
      },
      "source": [
        "### Logarithmic Functions\n",
        "\n",
        "f = lambda x : np.log(x**2+1)\n",
        "a, b = 0,10\n",
        "n = 1e4\n",
        "log13_sans1 = simp_13(f, a,b,n)\n",
        "log13_serr1 = (abs(asol-log13_sans1)/asol)*100"
      ],
      "execution_count": null,
      "outputs": []
    },
    {
      "cell_type": "markdown",
      "metadata": {
        "id": "9U82LRKEd6ww"
      },
      "source": [
        "# Simpson's 1/3 Rule (Sample Two)"
      ]
    },
    {
      "cell_type": "code",
      "metadata": {
        "id": "lUR-z-nk1j4Y"
      },
      "source": [
        "### Higher-Order Polynomials (degrees greater than 4)\n",
        "\n",
        "f = lambda x : -5*x**5-2*x**4+x**2+1.33*x-0.4\n",
        "a, b = 0,10\n",
        "n = 1e4\n",
        "hop13_sans2 = simp_13(f, a,b,n)\n",
        "hop13_serr2 = (abs(asol-hop13_sans2)/asol)*100"
      ],
      "execution_count": null,
      "outputs": []
    },
    {
      "cell_type": "code",
      "metadata": {
        "id": "zPbxSH851lL8"
      },
      "source": [
        "### Trigonometric Functions\n",
        "\n",
        "f = lambda x : 2*np.sin(2*x)\n",
        "a, b = 0,10\n",
        "n = 1e4\n",
        "trig13_sans2 = simp_13(f, a,b,n)\n",
        "trig13_serr2 = (abs(asol-trig13_sans2)/asol)*100"
      ],
      "execution_count": null,
      "outputs": []
    },
    {
      "cell_type": "code",
      "metadata": {
        "id": "eidJAQQS1SPY"
      },
      "source": [
        "### Logarithmic Functions\n",
        "\n",
        "f = lambda x : np.log(x**3-0.0125*x+1.7)\n",
        "a, b = 0,10\n",
        "n = 1e4\n",
        "log13_sans2 = simp_13(f, a,b,n)\n",
        "log13_serr2 = (abs(asol-log13_sans2)/asol)*100"
      ],
      "execution_count": null,
      "outputs": []
    },
    {
      "cell_type": "markdown",
      "metadata": {
        "id": "BBJSssD8JoN1"
      },
      "source": [
        "# Simpson's 3/8 Rule (Sample One)"
      ]
    },
    {
      "cell_type": "code",
      "metadata": {
        "id": "n3wN6ANz-GVH"
      },
      "source": [
        "def simp_38(func,lb,ub,divs):\n",
        "  h = (ub-lb)/divs\n",
        "  A = (func(lb)+func(ub))+ \\\n",
        "            np.sum(3*(func(lb+h*np.arange(1,divs,3))))+ \\\n",
        "            np.sum(3*(func(lb+h*np.arange(2,divs,3))))+ \\\n",
        "            np.sum(2*func(lb+h*np.arange(3,divs,3)))\n",
        "  S = (3*h/8)*A\n",
        "  return S"
      ],
      "execution_count": null,
      "outputs": []
    },
    {
      "cell_type": "code",
      "metadata": {
        "id": "WPnqCpffJ6tN"
      },
      "source": [
        "### Higher-Order Polynomials (degrees greater than 4)\n",
        "\n",
        "f = lambda x :  x**5-2*x**4+3.6*x**3-0.51*x**2-1.33*x-0.2\n",
        "a, b = 0,10\n",
        "n = 1e4\n",
        "hop38_sans1 = simp_38(f, a,b,n)\n",
        "hop38_serr1 = (abs(asol-hop38_sans1)/asol)*100"
      ],
      "execution_count": null,
      "outputs": []
    },
    {
      "cell_type": "code",
      "metadata": {
        "id": "OqYqTVm1J-RS"
      },
      "source": [
        "### Trigonometric Functions\n",
        "\n",
        "f = lambda x : np.sin(2*x)-np.cos(2*x)\n",
        "a, b = 0,10\n",
        "n = 1e4\n",
        "trig38_sans1 = simp_38(f, a,b,n)\n",
        "tri38_serr1 = (abs(asol-trig38_sans1)/asol)*100"
      ],
      "execution_count": null,
      "outputs": []
    },
    {
      "cell_type": "code",
      "metadata": {
        "id": "fN2gwcDwKCMd"
      },
      "source": [
        "### Logarithmic Functions\n",
        "\n",
        "f = lambda x : np.log(x**2+1)\n",
        "a, b = 0,10\n",
        "n = 1e4\n",
        "log38_sans1 = simp_38(f, a,b,n)\n",
        "log38_serr1 = (abs(asol-log38_sans1)/asol)*100"
      ],
      "execution_count": null,
      "outputs": []
    },
    {
      "cell_type": "markdown",
      "metadata": {
        "id": "5audYVl5eLcv"
      },
      "source": [
        "# Simpson's 3/8 Rule (Sample Two)"
      ]
    },
    {
      "cell_type": "code",
      "metadata": {
        "id": "GQbMNGYT2ZIf"
      },
      "source": [
        "### Higher-Order Polynomials (degrees greater than 4)\n",
        "\n",
        "f = lambda x : -5*x**5-2*x**4+x**2+1.33*x-0.4\n",
        "a, b = 0,10\n",
        "n = 1e4\n",
        "hop38_sans2 = simp_38(f, a,b,n)\n",
        "hop38_serr2 = (abs(asol-hop38_sans2)/asol)*100"
      ],
      "execution_count": null,
      "outputs": []
    },
    {
      "cell_type": "code",
      "metadata": {
        "id": "2fnYubUW2Zy-"
      },
      "source": [
        "### Trigonometric Functions\n",
        "\n",
        "f = lambda x : 2*np.sin(2*x)\n",
        "a, b = 0,10\n",
        "n = 1e4\n",
        "trig38_sans2 = simp_38(f, a,b,n)\n",
        "tri38_serr2 = (abs(asol-trig38_sans2)/asol)*100"
      ],
      "execution_count": null,
      "outputs": []
    },
    {
      "cell_type": "code",
      "metadata": {
        "id": "yL5UymOL1ZIn"
      },
      "source": [
        "### Logarithmic Functions\n",
        "\n",
        "f = lambda x : np.log(x**3-0.0125*x+1.7)\n",
        "a, b = 0,10\n",
        "n = 1e4\n",
        "log38_sans2 = simp_38(f, a,b,n)\n",
        "log38_serr2 = (abs(asol-log38_sans2)/asol)*100"
      ],
      "execution_count": null,
      "outputs": []
    },
    {
      "cell_type": "markdown",
      "metadata": {
        "id": "dS93T9vXJxre"
      },
      "source": [
        "# Monte Carlo Integration (Sample One)"
      ]
    },
    {
      "cell_type": "code",
      "metadata": {
        "id": "CNtayH_E-IKF"
      },
      "source": [
        "def MonteCarlo(f, a, b, n):\n",
        "    random_samples = np.random.uniform(a,b,int(n))\n",
        "    function_values = f(random_samples)\n",
        "    estimate = (np.sum(function_values) / n) * (b - a)\n",
        "    uncertainty = np.abs(b - a) * np.sqrt(((np.sum(function_values**2) / n) - (np.sum(function_values / n)**2)) / n)\n",
        "    return estimate, uncertainty"
      ],
      "execution_count": null,
      "outputs": []
    },
    {
      "cell_type": "code",
      "metadata": {
        "id": "9C6ulT1nKJcr"
      },
      "source": [
        "### Higher-Order Polynomials (degrees greater than 4)\n",
        "\n",
        "f = lambda x:x**5-2*x**4+3.6*x**3-0.51*x**2-1.33*x-0.2\n",
        "a, b = 0, 10\n",
        "n = 1e4\n",
        "hop_mcans1, hop_mcerr1 = MonteCarlo(f,a, b, n)"
      ],
      "execution_count": null,
      "outputs": []
    },
    {
      "cell_type": "code",
      "metadata": {
        "id": "P_mkh93UKMHt"
      },
      "source": [
        "### Trigonometric Functions\n",
        "\n",
        "f = lambda x:np.sin(2*x)-np.cos(2*x)\n",
        "a, b = 0, 10\n",
        "n = 1e4\n",
        "trig_mcans1, trig_mcerr1 = MonteCarlo(f,a, b, n)"
      ],
      "execution_count": null,
      "outputs": []
    },
    {
      "cell_type": "code",
      "metadata": {
        "id": "culMHtgSKO9R"
      },
      "source": [
        "### Logarithmic Functions\n",
        "\n",
        "f = lambda x:np.log(x**2+1)\n",
        "a, b = 0, 10\n",
        "n = 1e4\n",
        "log_mcans1, log_mcerr1 = MonteCarlo(f,a, b, n)"
      ],
      "execution_count": null,
      "outputs": []
    },
    {
      "cell_type": "markdown",
      "metadata": {
        "id": "mfpSbIAYer3m"
      },
      "source": [
        "# Monte Carlo Integration (Sample Two)"
      ]
    },
    {
      "cell_type": "code",
      "metadata": {
        "id": "yHHzZe_629lV"
      },
      "source": [
        "### Higher-Order Polynomials (degrees greater than 4)\n",
        "\n",
        "f = lambda x:-5*x**5-2*x**4+x**2+1.33*x-0.4\n",
        "a, b = 0, 10\n",
        "n = 1e4\n",
        "hop_mcans2, hop_mcerr2 = MonteCarlo(f,a, b, n)"
      ],
      "execution_count": null,
      "outputs": []
    },
    {
      "cell_type": "code",
      "metadata": {
        "id": "_iKi4yU82997"
      },
      "source": [
        "### Trigonometric Functions\n",
        "\n",
        "f = lambda x: 2*np.sin(2*x)\n",
        "a, b = 0, 10\n",
        "n = 1e4\n",
        "trig_mcans2, trig_mcerr2 = MonteCarlo(f,a, b, n)"
      ],
      "execution_count": null,
      "outputs": []
    },
    {
      "cell_type": "code",
      "metadata": {
        "id": "4GhpmpVu2-j_"
      },
      "source": [
        "### Logarithmic Functions\n",
        "\n",
        "f = lambda x:np.log(x**3-0.0125*x+1.7)\n",
        "a, b = 0, 10\n",
        "n = 1e4\n",
        "log_mcans1, log_mcerr2 = MonteCarlo(f,a, b, n)"
      ],
      "execution_count": null,
      "outputs": []
    },
    {
      "cell_type": "markdown",
      "metadata": {
        "id": "sYxjrMGVKPSu"
      },
      "source": [
        "# Scipy Functions "
      ]
    },
    {
      "cell_type": "markdown",
      "metadata": {
        "id": "asv_5Cj27GO5"
      },
      "source": [
        "## Using scipy.integrate_quad"
      ]
    },
    {
      "cell_type": "markdown",
      "metadata": {
        "id": "KHH-adIi34qz"
      },
      "source": [
        "### Higher-Order Polynomials (degrees greater than 4)"
      ]
    },
    {
      "cell_type": "code",
      "metadata": {
        "id": "ThLLAtN5KSpX"
      },
      "source": [
        "# Sample One\n",
        "\n",
        "def f(x):\n",
        "  return x**5-2*x**4+3.6*x**3-0.51*x**2-1.33*x-0.2\n",
        "\n",
        "hop_iqanswer1,hop_iqerr1 = integrate.quad(f,0,10)"
      ],
      "execution_count": null,
      "outputs": []
    },
    {
      "cell_type": "code",
      "metadata": {
        "id": "K3jDkg5d8Twy"
      },
      "source": [
        "# Sample Two\n",
        "\n",
        "def f(x):\n",
        "  return -5*x**5-2*x**4+x**2+1.33*x-0.4\n",
        "\n",
        "hop_iqans2,hop_iqerr2 = integrate.quad(f,0,10)"
      ],
      "execution_count": null,
      "outputs": []
    },
    {
      "cell_type": "markdown",
      "metadata": {
        "id": "C642SHf54BeX"
      },
      "source": [
        "### Trigonometric Functions"
      ]
    },
    {
      "cell_type": "code",
      "metadata": {
        "id": "yewD39CF2_BZ"
      },
      "source": [
        "# Sample One\n",
        "\n",
        "def f(x):\n",
        "  return np.sin(2*x)-np.cos(2*x)\n",
        "\n",
        "trig_iqans1,trig_iqerr1 = integrate.quad(f,0,10)"
      ],
      "execution_count": null,
      "outputs": []
    },
    {
      "cell_type": "code",
      "metadata": {
        "id": "RBh_1YLn4LXO"
      },
      "source": [
        "# Sample Two\n",
        "\n",
        "def f(x):\n",
        "  return 2*np.sin(2*x)\n",
        "\n",
        "trig_iqans2,trig_iqerr2 = integrate.quad(f,0,10)"
      ],
      "execution_count": null,
      "outputs": []
    },
    {
      "cell_type": "markdown",
      "metadata": {
        "id": "RexKsNs94LqP"
      },
      "source": [
        "### Logarithmic Functions"
      ]
    },
    {
      "cell_type": "code",
      "metadata": {
        "id": "2yJBYJiw6jkw"
      },
      "source": [
        "# Sample One\n",
        "\n",
        "def f(x):\n",
        "  return np.log(x**2+1)\n",
        "\n",
        "log_iqans1,log_iqerr1 = integrate.quad(f,0,10)"
      ],
      "execution_count": null,
      "outputs": []
    },
    {
      "cell_type": "code",
      "metadata": {
        "id": "1nyCw8hs6kDB"
      },
      "source": [
        "# Sample Two\n",
        "\n",
        "def f(x):\n",
        "  return np.log(x**3-0.0125*x+1.7)\n",
        "\n",
        "log_iqans2,log_iqerr2 = integrate.quad(f,0,10)"
      ],
      "execution_count": null,
      "outputs": []
    },
    {
      "cell_type": "markdown",
      "metadata": {
        "id": "qCPgKAyC6tKH"
      },
      "source": [
        "## Using scipy.integrate_fixed quad"
      ]
    },
    {
      "cell_type": "markdown",
      "metadata": {
        "id": "uLclexur8GX4"
      },
      "source": [
        "### Higher-Order Polynomials (degrees greater than 4)"
      ]
    },
    {
      "cell_type": "code",
      "metadata": {
        "id": "38iuCYs17rAB"
      },
      "source": [
        "# Sample One\n",
        "\n",
        "def f(x):\n",
        "  return x**5-2*x**4+3.6*x**3-0.51*x**2-1.33*x-0.2\n",
        "\n",
        "hop_ifqans1,hop_ifqerr1 = integrate.fixed_quad(f,0,10)"
      ],
      "execution_count": null,
      "outputs": []
    },
    {
      "cell_type": "code",
      "metadata": {
        "id": "Ntfkb9x08KnZ"
      },
      "source": [
        "# Sample Two\n",
        "\n",
        "def f(x):\n",
        "  return -5*x**5-2*x**4+x**2+1.33*x-0.4\n",
        "\n",
        "hop_ifqans2,hop_ifqerr2 = integrate.fixed_quad(f,0,10)"
      ],
      "execution_count": null,
      "outputs": []
    },
    {
      "cell_type": "markdown",
      "metadata": {
        "id": "eUtf7y_n8K7k"
      },
      "source": [
        "### Trigonometric Functions"
      ]
    },
    {
      "cell_type": "code",
      "metadata": {
        "id": "CvP_cT6X8RjF"
      },
      "source": [
        "# Sample One\n",
        "\n",
        "def f(x):\n",
        "  return np.sin(2*x)-np.cos(2*x)\n",
        "\n",
        "trig_ifqans1,trig_ifqerr1 = integrate.fixed_quad(f,0,10)"
      ],
      "execution_count": null,
      "outputs": []
    },
    {
      "cell_type": "code",
      "metadata": {
        "id": "gCUkc0yj8R3B"
      },
      "source": [
        "# Sample Two\n",
        "\n",
        "def f(x):\n",
        "  return 2*np.sin(2*x)\n",
        "\n",
        "trig_ifqans2,trig_ifqerr2 = integrate.fixed_quad(f,0,10)"
      ],
      "execution_count": null,
      "outputs": []
    },
    {
      "cell_type": "markdown",
      "metadata": {
        "id": "5KARmPvd8SFQ"
      },
      "source": [
        "### Logarithmic Functions"
      ]
    },
    {
      "cell_type": "code",
      "metadata": {
        "id": "eWmOW-s78YDL"
      },
      "source": [
        "# Sample One\n",
        "\n",
        "def f(x):\n",
        "  return np.log(x**2+1)\n",
        "\n",
        "log_ifqans1,log_ifqerr1 = integrate.fixed_quad(f,0,10)"
      ],
      "execution_count": null,
      "outputs": []
    },
    {
      "cell_type": "code",
      "metadata": {
        "id": "SK0FX-Xk8YWP"
      },
      "source": [
        "# Sample Two\n",
        "\n",
        "def f(x):\n",
        "  return np.log(x**3-0.0125*x+1.7)\n",
        "\n",
        "log_ifqans2,log_ifqerr2 = integrate.fixed_quad(f,0,10)"
      ],
      "execution_count": null,
      "outputs": []
    },
    {
      "cell_type": "markdown",
      "metadata": {
        "id": "L6T80uQpetQS"
      },
      "source": [
        "## Error"
      ]
    },
    {
      "cell_type": "code",
      "metadata": {
        "colab": {
          "base_uri": "https://localhost:8080/"
        },
        "id": "zVNv2SN1AIGz",
        "outputId": "c7c11d51-277d-4bbd-fa89-1e03c6df748a"
      },
      "source": [
        "print('\\tFirst Case Sample')\n",
        "print('\\nMethod                       Functions                       Answer                    Error')\n",
        "print('----------------------------------------------------------------------------------------------')\n",
        "print('Trapezoid                    Higher-Order Polynomials        {}        {}'.format(hop_tans1,hop_terr1))\n",
        "print('Simpson 1/3                                                  {}        {}'.format(hop13_sans1,hop13_serr1))\n",
        "print('Simpson 3/8                                                  {}        {}'.format(hop38_sans1,hop38_serr1))\n",
        "print('Monte Carlo                                                  {}        {}'.format(hop_mcans1, hop_mcerr1))\n",
        "print('scipy.integrate_quad                                         {}         {}'.format(hop_iqanswer1,hop_iqerr1))\n",
        "print('scipy.integrate_fixed quad                                   {}        {}'.format(hop_ifqans1,hop_ifqerr1))\n",
        "print('\\n')\n",
        "print('Trapezoid                    Trigonometric Functions        {}       {}'.format(trig_tans1,trig_terr1))\n",
        "print('Simpson 1/3                                                 {}       {}'.format(trig13_sans1,trig13_serr1))\n",
        "print('Simpson 3/8                                                 {}        {}'.format(trig38_sans1,tri38_serr1))\n",
        "print('Monte Carlo                                                 {}        {}'.format(trig_mcans1, trig_mcerr1))\n",
        "print('scipy.integrate_quad                                        {}       {}'.format(trig_iqans1,trig_iqerr1))\n",
        "print('scipy.integrate_fixed quad                                   {}        {}'.format(trig_ifqans1,trig_ifqerr1))\n",
        "print('\\n')\n",
        "print('Trapezoid                    Logarithmic Functions           {}        {}'.format(log_tans1,log_terr1))\n",
        "print('Simpson 1/3                                                  {}        {}'.format(log13_sans1,log13_serr1))\n",
        "print('Simpson 3/8                                                  {}        {}'.format(log38_sans1,tri38_serr1))\n",
        "print('Monte Carlo                                                  {}         {}'.format(log_mcans1, log38_serr1))\n",
        "print('scipy.integrate_quad                                         {}         {}'.format(log_iqans1,log_iqerr1))\n",
        "print('scipy.integrate_fixed quad                                   {}         {}'.format(log_ifqans1,log_ifqerr1))"
      ],
      "execution_count": null,
      "outputs": [
        {
          "output_type": "stream",
          "text": [
            "\tFirst Case Sample\n",
            "\n",
            "Method                       Functions                       Answer                    Error\n",
            "----------------------------------------------------------------------------------------------\n",
            "Trapezoid                    Higher-Order Polynomials        135428.17025581666        15.622103863926116\n",
            "Simpson 1/3                                                  135428.16666666672        15.622100799681307\n",
            "Simpson 3/8                                                  135407.28817559654        15.604275741139361\n",
            "Monte Carlo                                                  138250.7729449929        2100.970642310829\n",
            "scipy.integrate_quad                                         135428.1666666667         1.5035641277031084e-09\n",
            "scipy.integrate_fixed quad                                   135428.16666666654        None\n",
            "\n",
            "\n",
            "Trapezoid                    Trigonometric Functions        -0.16051360276595403       100.0001370388481\n",
            "Simpson 1/3                                                 -0.16051365627052397       100.00013703889377\n",
            "Simpson 3/8                                                 -0.1606395418527942        100.00013714636886\n",
            "Monte Carlo                                                 -0.1938097472778737        0.09768522538156064\n",
            "scipy.integrate_quad                                        -0.16051365627050962       1.341593112644257e-11\n",
            "scipy.integrate_fixed quad                                   1.0652509398232985        None\n",
            "\n",
            "\n",
            "Trapezoid                    Logarithmic Functions           29.093460533521714        99.97516139286816\n",
            "Simpson 1/3                                                  29.093460517020066        99.97516139288226\n",
            "Simpson 3/8                                                  29.092306761642924        100.00013714636886\n",
            "Monte Carlo                                                  43.70239856749323         99.97516237790349\n",
            "scipy.integrate_quad                                         29.09346051702006         2.1491520629107752e-10\n",
            "scipy.integrate_fixed quad                                   29.07716195229083         None\n"
          ],
          "name": "stdout"
        }
      ]
    },
    {
      "cell_type": "code",
      "metadata": {
        "colab": {
          "base_uri": "https://localhost:8080/"
        },
        "id": "TbZs_r5fLGUW",
        "outputId": "483fa560-fa1b-49ef-de6b-ce6417ca9075"
      },
      "source": [
        "print('\\tSecond Case Sample')\n",
        "print('\\nMethod                       Functions                       Answer                    Error')\n",
        "print('----------------------------------------------------------------------------------------------')\n",
        "print('Trapezoid                    Higher-Order Polynomials       {}         {}'.format(hop_tans2,hop_terr2))\n",
        "print('Simpson 1/3                                                 {}         {}'.format(hop13_sans2,hop13_serr2))\n",
        "print('Simpson 3/8                                                 {}         {}'.format(hop38_sans2,hop38_serr2))\n",
        "print('Monte Carlo                                                 {}         {}'.format(hop_mcans2, hop_mcerr2))\n",
        "print('scipy.integrate_quad                                        {}                  {}'.format(hop_iqans2,hop_iqerr2))\n",
        "print('scipy.integrate_fixed quad                                  {}         {}'.format(hop_ifqans2,hop_ifqerr2))\n",
        "print('\\n')\n",
        "print('Trapezoid                    Trigonometric Functions         {}         {}'.format(trig_tans2,trig_terr2))\n",
        "print('Simpson 1/3                                                  {}         {}'.format(trig13_sans2,trig13_serr2))\n",
        "print('Simpson 3/8                                                  {}        {}'.format(trig38_sans2,tri38_serr2))\n",
        "print('Monte Carlo                                                  {}        {}'.format(trig_mcans2, trig_mcerr2))\n",
        "print('scipy.integrate_quad                                         {}        {}'.format(trig_iqans2,trig_iqerr2))\n",
        "print('scipy.integrate_fixed quad                                  {}        {}'.format(trig_ifqans2,trig_ifqerr2))\n",
        "print('\\n')\n",
        "print('Trapezoid                    Logarithmic Functions           {}         {}'.format(log_tans2,log_terr2))\n",
        "print('Simpson 1/3                                                  {}        {}'.format(log13_sans2,log13_serr2))\n",
        "print('Simpson 3/8                                                  {}         {}'.format(log38_sans2,tri38_serr2))\n",
        "print('Monte Carlo                                                  {}         {}'.format(log_mcans1, log_mcerr2))\n",
        "print('scipy.integrate_quad                                         {}         {}'.format(log_iqans2,log_iqerr2))\n",
        "print('scipy.integrate_fixed quad                                   {}         {}'.format(log_ifqans2,log_ifqerr2))\n"
      ],
      "execution_count": null,
      "outputs": [
        {
          "output_type": "stream",
          "text": [
            "\tSecond Case Sample\n",
            "\n",
            "Method                       Functions                       Answer                    Error\n",
            "----------------------------------------------------------------------------------------------\n",
            "Trapezoid                    Higher-Order Polynomials       -872937.5214983334         845.2723653191612\n",
            "Simpson 1/3                                                 -872937.5000000002         845.272346964911\n",
            "Simpson 3/8                                                 -872807.5604744668         845.1614108037793\n",
            "Monte Carlo                                                 -873182.391598228         12999.363294033967\n",
            "scipy.integrate_quad                                        -872937.5                  9.691553910079873e-09\n",
            "scipy.integrate_fixed quad                                  -872937.4999999993         None\n",
            "\n",
            "\n",
            "Trapezoid                    Trigonometric Functions         0.591917740880616         99.99949464890217\n",
            "Simpson 1/3                                                  0.591917938186661         99.99949464873372\n",
            "Simpson 3/8                                                  0.5914616694503726        99.99949503827418\n",
            "Monte Carlo                                                  0.5699988598092833        0.13895929914722074\n",
            "scipy.integrate_quad                                         0.5919179381866082        1.5204019467029983e-11\n",
            "scipy.integrate_fixed quad                                  -3.9282709932724833        None\n",
            "\n",
            "\n",
            "Trapezoid                    Logarithmic Functions           43.38710334698194         99.9629581632827\n",
            "Simpson 1/3                                                  43.387103321409526        99.96295816330452\n",
            "Simpson 3/8                                                  43.38537602658836         99.99949503827418\n",
            "Monte Carlo                                                  43.70239856749323         0.1979485223181782\n",
            "scipy.integrate_quad                                         43.38710332140954         2.4343808300431166e-09\n",
            "scipy.integrate_fixed quad                                   43.44491700200372         None\n"
          ],
          "name": "stdout"
        }
      ]
    },
    {
      "cell_type": "markdown",
      "metadata": {
        "id": "-HT4ICG1QLSW"
      },
      "source": [
        "# 3.)"
      ]
    },
    {
      "cell_type": "code",
      "metadata": {
        "id": "dxJio-VDJWXg"
      },
      "source": [
        "h = lambda x: x**2\n",
        "def simp_38(func,lb,ub,divs): #divs= bin/sizes\n",
        "  h = (ub-lb)/divs\n",
        "  A = (func(lb)+func(ub))+ \\\n",
        "            np.sum(3*(func(lb+h*np.arange(1,divs,3))))+ \\\n",
        "            np.sum(3*(func(lb+h*np.arange(2,divs,3))))+ \\\n",
        "            np.sum(2*func(lb+h*np.arange(3,divs,3)))\n",
        "  S = (3*h/8)*A\n",
        "  return S"
      ],
      "execution_count": null,
      "outputs": []
    },
    {
      "cell_type": "code",
      "metadata": {
        "colab": {
          "base_uri": "https://localhost:8080/",
          "height": 315
        },
        "id": "Ai4czF5TqFx_",
        "outputId": "e1fd18a3-c3ea-40fb-b4d4-ff75e5037f87"
      },
      "source": [
        "bin = 1000\n",
        "x_range = np.arange(0,100)\n",
        "y_range = np.zeros(x_range.size)\n",
        "\n",
        "for i in x_range:\n",
        "    y_range[i] = abs((bin/100) - simp_38(h,0,10,i))\n",
        "plt.plot(x_range,y_range)"
      ],
      "execution_count": null,
      "outputs": [
        {
          "output_type": "stream",
          "text": [
            "/usr/local/lib/python3.7/dist-packages/ipykernel_launcher.py:3: RuntimeWarning: divide by zero encountered in long_scalars\n",
            "  This is separate from the ipykernel package so we can avoid doing imports until\n"
          ],
          "name": "stderr"
        },
        {
          "output_type": "execute_result",
          "data": {
            "text/plain": [
              "[<matplotlib.lines.Line2D at 0x7efbef20afd0>]"
            ]
          },
          "metadata": {
            "tags": []
          },
          "execution_count": 53
        },
        {
          "output_type": "display_data",
          "data": {
            "image/png": "[encoded data removed]",
            "text/plain": [
              "<Figure size 432x288 with 1 Axes>"
            ]
          },
          "metadata": {
            "tags": [],
            "needs_background": "light"
          }
        }
      ]
    },
    {
      "cell_type": "code",
      "metadata": {
        "id": "aldbqzBy0oae"
      },
      "source": [
        "def MonteCarlo(f, a, b, n):\n",
        "    random_samples = np.random.uniform(a,b,int(n))\n",
        "    function_values = f(random_samples)\n",
        "    estimate = (np.sum(function_values) / n) * (b - a)\n",
        "    uncertainty = np.abs(b - a) * np.sqrt(((np.sum(function_values**2) / n) - (np.sum(function_values / n)**2)) / n)\n",
        "    return uncertainty"
      ],
      "execution_count": null,
      "outputs": []
    },
    {
      "cell_type": "code",
      "metadata": {
        "colab": {
          "base_uri": "https://localhost:8080/",
          "height": 348
        },
        "id": "sSfIC1W600kF",
        "outputId": "5a110b71-b8bc-491e-818a-5ccb16b784b6"
      },
      "source": [
        "bin = 1000\n",
        "x_range = np.arange(0,100)\n",
        "y_range = np.zeros(x_range.size)\n",
        "\n",
        "for i in x_range:\n",
        "    y_range[i] = abs((bin*100) - MonteCarlo(h,0,10,i))\n",
        "plt.plot(x_range,y_range)"
      ],
      "execution_count": null,
      "outputs": [
        {
          "output_type": "stream",
          "text": [
            "/usr/local/lib/python3.7/dist-packages/ipykernel_launcher.py:4: RuntimeWarning: invalid value encountered in double_scalars\n",
            "  after removing the cwd from sys.path.\n",
            "/usr/local/lib/python3.7/dist-packages/ipykernel_launcher.py:5: RuntimeWarning: invalid value encountered in double_scalars\n",
            "  \"\"\"\n"
          ],
          "name": "stderr"
        },
        {
          "output_type": "execute_result",
          "data": {
            "text/plain": [
              "[<matplotlib.lines.Line2D at 0x7efbeecb9890>]"
            ]
          },
          "metadata": {
            "tags": []
          },
          "execution_count": 55
        },
        {
          "output_type": "display_data",
          "data": {
            "image/png": "[encoded data removed]",
            "text/plain": [
              "<Figure size 432x288 with 1 Axes>"
            ]
          },
          "metadata": {
            "tags": [],
            "needs_background": "light"
          }
        }
      ]
    },
    {
      "cell_type": "markdown",
      "metadata": {
        "id": "0H4OIi9BS9ks"
      },
      "source": [
        "Applying the law of numbers on Simpson 3/8 integration method, can be seen on the graph that it started from on a large number because of the number of bins used and it was divided by 100 for each iteration. Making the graph smaller and was on a constant range in the middle as it further out. While on Monte Carlo Integration, the graph started from 1000 as well, aplying the Law of large numbers. In this, instead of deacreasing the sample size to 100, it was increased by 100 per iterations. That is why it can be observed that a part of the plot was increasing but as it stretches out further, the plot of the error is still fluctuating. The plot showed that with implementing the law of large numbers, the results become closer to the expected value as the number of trials increased. In simpson 3/8 the expected result is 330.858375, that is why as the plot continues further it is in a constant range of 320. As for Monte Carlo, random variables do not have a finite mean. That is why it does not converge. The plot, has 'shocks' that can either jump up or down."
      ]
    },
    {
      "cell_type": "markdown",
      "metadata": {
        "id": "cHIrWvLlld_B"
      },
      "source": [
        "Reference: \n",
        "\n",
        "[6] Math.arizona.edu (2021). **[Math.arizona.edu: The Law of Large Numbers](https://www.math.arizona.edu/~jwatkins/J_limit.pdf)**"
      ]
    },
    {
      "cell_type": "code",
      "metadata": {
        "colab": {
          "base_uri": "https://localhost:8080/"
        },
        "id": "1P2ThAtyTAXO",
        "outputId": "40887a2a-1036-4874-a41b-7ad735ff7149"
      },
      "source": [
        "print((simp_38(h,0,10,100)))"
      ],
      "execution_count": null,
      "outputs": [
        {
          "output_type": "stream",
          "text": [
            "330.858375\n"
          ],
          "name": "stdout"
        }
      ]
    }
  ]
}