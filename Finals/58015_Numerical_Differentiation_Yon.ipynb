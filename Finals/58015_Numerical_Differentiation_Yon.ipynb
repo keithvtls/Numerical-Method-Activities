{
  "nbformat": 4,
  "nbformat_minor": 0,
  "metadata": {
    "colab": {
      "name": "58015_Numerical_Differentiation_Yon",
      "provenance": [],
      "collapsed_sections": [],
      "include_colab_link": true
    },
    "kernelspec": {
      "name": "python3",
      "display_name": "Python 3"
    },
    "language_info": {
      "name": "python"
    }
  },
  "cells": [
    {
      "cell_type": "markdown",
      "metadata": {
        "id": "view-in-github",
        "colab_type": "text"
      },
      "source": [
        "<a href=\"https://colab.research.google.com/github/keithvtls/Numerical-Method-Activities/blob/main/Finals/58015_Numerical_Differentiation_Yon.ipynb\" target=\"_parent\"><img src=\"https://colab.research.google.com/assets/colab-badge.svg\" alt=\"Open In Colab\"/></a>"
      ]
    },
    {
      "cell_type": "markdown",
      "metadata": {
        "id": "hFw1xxlf-8Ti"
      },
      "source": [
        "## Members:\n",
        "\n",
        "D.M. Fajardo © 2021\n",
        "\n",
        "I.J. Timbungco © 2021\n",
        "\n",
        "M.A. Rodriguez © 2021\n",
        "\n",
        "N.K. Vitales © 2021"
      ]
    },
    {
      "cell_type": "code",
      "metadata": {
        "id": "2GtIqXtJ_9q7"
      },
      "source": [
        "import numpy as np\n",
        "from scipy.special import binom\n",
        "import sympy as sp\n",
        "from scipy.misc import derivative\n",
        "import matplotlib.pyplot as plt \n",
        "import math\n",
        "from pandas import DataFrame\n",
        "from sympy import series, Symbol\n",
        "from sympy.plotting import plot\n",
        "%matplotlib inline"
      ],
      "execution_count": null,
      "outputs": []
    },
    {
      "cell_type": "markdown",
      "metadata": {
        "id": "nj5BmUsS_3S8"
      },
      "source": [
        "# Part 1"
      ]
    },
    {
      "cell_type": "markdown",
      "metadata": {
        "id": "GlLq_ukpcp51"
      },
      "source": [
        "$$y_1 = \\left(\\frac{4x^2+2x+1}{x+2e^x}\\right)^x$$"
      ]
    },
    {
      "cell_type": "code",
      "metadata": {
        "id": "2mthqTU6cjl5"
      },
      "source": [
        "y1 = lambda x : ((4*x**2 + 2*x + 1)/(x+2*np.exp(x)))**x\n",
        "x = 0.1\n",
        "dx = 0.05"
      ],
      "execution_count": null,
      "outputs": []
    },
    {
      "cell_type": "code",
      "metadata": {
        "id": "7FDwME8l-7VA"
      },
      "source": [
        "binom_coeffs = lambda n : np.asarray([binom(n,k) for k in range(n+1)])"
      ],
      "execution_count": null,
      "outputs": []
    },
    {
      "cell_type": "code",
      "metadata": {
        "id": "DHPg0w9ON4Qf"
      },
      "source": [
        "# Forward Finite Differentation\n",
        "def diff_fwd(f,x,dx,degree=1):\n",
        "  f_ans = f(x+((np.arange(degree,-1,-1))*dx)) #get the increments of f(x)\n",
        "  binom_coeffs = lambda n : np.asarray([binom(degree,k) for k in range(degree+1)])\n",
        "  bin = binom_coeffs(degree)\n",
        "  bin[1::2] *= -1 ## Changing the signs of the binomial coeffs following Eq.5.2\n",
        "  diff = (bin @ f_ans) / dx**degree #vecotrized form, since Eq.5.2 follows the linear combination form\n",
        "  return diff"
      ],
      "execution_count": null,
      "outputs": []
    },
    {
      "cell_type": "code",
      "metadata": {
        "id": "qFERqg3CdOGD"
      },
      "source": [
        "# Backward Finite Differentiation (General Function)\n",
        "def diff_bwd(f,x,dx,degree=1):\n",
        "  f_ans = f(x+(np.arange(0,-(degree+1),-1))*dx)\n",
        "  binom_coeffs = lambda n : np.asarray([binom(degree,k) for k in range(degree+1)])\n",
        "  bin = binom_coeffs(degree)\n",
        "  bin[1::2] *= -1\n",
        "  diff =  (bin @ f_ans) / dx**degree\n",
        "  return diff"
      ],
      "execution_count": null,
      "outputs": []
    },
    {
      "cell_type": "code",
      "metadata": {
        "id": "hhcZ21jVdQby"
      },
      "source": [
        "# Central Finite Differentiation (General Function)\n",
        "def diff_cen(f,x,dx,degree=1):\n",
        "  while degree >= 0:\n",
        "    incre = (np.arange((degree/2),-(np.ceil(degree/2)+1),-1))\n",
        "    if np.mod(degree, 2) == 1:\n",
        "      f_ans =f(x+((np.delete(incre,len(incre)//2))*dx))\n",
        "      bin = binom_coeffs(degree)\n",
        "      bin[1::2] *= -1\n",
        "      diff = (bin @ f_ans) / (2*dx**degree)\n",
        "    else :\n",
        "      f_ans = f(x+(incre)*dx)\n",
        "      bin = binom_coeffs(degree)\n",
        "      bin[1::2] *= -1\n",
        "      diff = (bin @ f_ans) / (dx**degree)\n",
        "    return diff"
      ],
      "execution_count": null,
      "outputs": []
    },
    {
      "cell_type": "code",
      "metadata": {
        "colab": {
          "base_uri": "https://localhost:8080/"
        },
        "id": "84PMzQBWeU0z",
        "outputId": "cc44d234-ee77-4747-901f-0e5a886412c7"
      },
      "source": [
        "print('Forward Finite')\n",
        "\n",
        "degree = 3\n",
        "for n in range(0,degree+1):\n",
        "  print(diff_fwd(y1,x,dx,n))\n",
        "\n",
        "print('\\nBackward Finite')\n",
        "\n",
        "for n in range(0,degree+1):\n",
        "  print(diff_bwd(y1,x,dx,n))\n",
        "\n",
        "print('\\nCentral Finite')\n",
        "\n",
        "for n in range(0,degree+1):\n",
        "    print(diff_cen(y1,x,dx,n))"
      ],
      "execution_count": null,
      "outputs": [
        {
          "output_type": "stream",
          "text": [
            "Forward Finite\n",
            "0.9396682312481898\n",
            "-0.4499158496124789\n",
            "2.1039516581967006\n",
            "-1.9844013152638946\n",
            "\n",
            "Backward Finite\n",
            "0.9396682312481898\n",
            "-0.5551914719430662\n",
            "1.9250486230014459\n",
            "9.635605341683727\n",
            "\n",
            "Central Finite\n",
            "0.9396682312481898\n",
            "-0.5541105556754333\n",
            "2.1055124466117454\n",
            "225.55304130975966\n"
          ],
          "name": "stdout"
        }
      ]
    },
    {
      "cell_type": "markdown",
      "metadata": {
        "id": "hDeuljr0eVbf"
      },
      "source": [
        "$$y_2 = \\cos(2x)+\\frac{x^2}{20}+e^{-2x}$$"
      ]
    },
    {
      "cell_type": "code",
      "metadata": {
        "id": "eeBsIP6Hea-q"
      },
      "source": [
        "y2 = lambda x : np.cos(2*x) + (x**2)/(20) + np.exp(-2*x)\n",
        "x = 0.1\n",
        "dx = 0.05"
      ],
      "execution_count": null,
      "outputs": []
    },
    {
      "cell_type": "code",
      "metadata": {
        "id": "h_vIAcI7ej9a"
      },
      "source": [
        "# Forward Finite Differentation\n",
        "def diff_fwd(f,x,dx,degree=1):\n",
        "  f_ans = f(x+((np.arange(degree,-1,-1))*dx)) #get the increments of f(x)\n",
        "  binom_coeffs = lambda n : np.asarray([binom(degree,k) for k in range(degree+1)])\n",
        "  bin = binom_coeffs(degree)\n",
        "  bin[1::2] *= -1 ## Changing the signs of the binomial coeffs following Eq.5.2\n",
        "  diff = (bin @ f_ans) / dx**degree #vecotrized form, since Eq.5.2 follows the linear combination form\n",
        "  return diff"
      ],
      "execution_count": null,
      "outputs": []
    },
    {
      "cell_type": "code",
      "metadata": {
        "id": "i2PaR59penYH"
      },
      "source": [
        "# Backward Finite Differentiation (General Function)\n",
        "def diff_bwd(f,x,dx,degree=1):\n",
        "  f_ans = f(x+(np.arange(0,-(degree+1),-1))*dx)\n",
        "  binom_coeffs = lambda n : np.asarray([binom(degree,k) for k in range(degree+1)])\n",
        "  bin = binom_coeffs(degree)\n",
        "  bin[1::2] *= -1\n",
        "  diff =  (bin @ f_ans) / dx**degree\n",
        "  return diff"
      ],
      "execution_count": null,
      "outputs": []
    },
    {
      "cell_type": "code",
      "metadata": {
        "id": "doPmquIDenSU"
      },
      "source": [
        "# Center Finite Differentiation (General Function)\n",
        "def diff_cen(f,x,dx,degree=1):\n",
        "  while degree >= 0:\n",
        "    incre = (np.arange((degree/2),-(np.ceil(degree/2)+1),-1))\n",
        "    if np.mod(degree, 2) == 1:\n",
        "      f_ans =f(x+((np.delete(incre,len(incre)//2))*dx))\n",
        "      bin = binom_coeffs(degree)\n",
        "      bin[1::2] *= -1\n",
        "      diff = (bin @ f_ans) / (2*dx**degree)\n",
        "    else :\n",
        "      f_ans = f(x+(incre)*dx)\n",
        "      bin = binom_coeffs(degree)\n",
        "      bin[1::2] *= -1\n",
        "      diff = (bin @ f_ans) / (dx**degree)\n",
        "    return diff"
      ],
      "execution_count": null,
      "outputs": []
    },
    {
      "cell_type": "code",
      "metadata": {
        "colab": {
          "base_uri": "https://localhost:8080/"
        },
        "id": "t7Zhluzdiv4q",
        "outputId": "a0240a86-a613-4920-c251-b172943cb0a0"
      },
      "source": [
        "print('Forward Finite')\n",
        "\n",
        "degree = 3\n",
        "for n in range(0,degree+1):\n",
        "  print(diff_fwd(y2,x,dx,n))\n",
        "\n",
        "print('\\nBackward Finite')\n",
        "\n",
        "for n in range(0,degree+1):\n",
        "  print(diff_bwd(y2,x,dx,n))\n",
        "\n",
        "print('\\nCentral Finite')\n",
        "\n",
        "for n in range(0,degree+1):\n",
        "    print(diff_cen(y2,x,dx,n))"
      ],
      "execution_count": null,
      "outputs": [
        {
          "output_type": "stream",
          "text": [
            "Forward Finite\n",
            "1.7992973309192233\n",
            "-2.0403524222379854\n",
            "-0.7524194627601232\n",
            "-2.9048000785465424\n",
            "\n",
            "Backward Finite\n",
            "1.7992973309192233\n",
            "-2.013385047895242\n",
            "-0.2543342834989914\n",
            "-7.220019011253241\n",
            "\n",
            "Central Finite\n",
            "1.7992973309192233\n",
            "-2.0151648011363066\n",
            "-0.5393474868548686\n",
            "800.3555445439756\n"
          ],
          "name": "stdout"
        }
      ]
    },
    {
      "cell_type": "markdown",
      "metadata": {
        "id": "6Qkb3rQ0i7f7"
      },
      "source": [
        "## Approximation Error:"
      ]
    },
    {
      "cell_type": "markdown",
      "metadata": {
        "id": "BvI6SHVj5Exi"
      },
      "source": [
        "$$y_1 = \\left(\\frac{4x^2+2x+1}{x+2e^x}\\right)^x$$"
      ]
    },
    {
      "cell_type": "code",
      "metadata": {
        "colab": {
          "base_uri": "https://localhost:8080/"
        },
        "id": "gZNeXRz0rvKj",
        "outputId": "377022ba-d7a6-4dfa-e6ed-1cd39f6cf04b"
      },
      "source": [
        "y1_fwd_err, y1_bwd_err, y1_cen_err = [], [], []\n",
        "\n",
        "print('Forward Finite Approximation Error')\n",
        "for n in range(0,degree+1):\n",
        "  y1_diff_fwd_err = np.append(abs(derivative(y1,x,dx,n=n,order=5)-diff_fwd(y1,x,dx,n)),y1_fwd_err)\n",
        "  print(y1_diff_fwd_err)\n",
        "\n",
        "print('\\nBackward Finite Approximation Error')\n",
        "for n in range(0,degree+1):\n",
        "  y1_diff_bwd_err = np.append(abs(derivative(y1,x,dx,n=n,order=5)-diff_bwd(y1,x,dx,n)),y1_bwd_err)\n",
        "  print(y1_diff_bwd_err)\n",
        "\n",
        "print('\\nCentral Finite Approximation Error')\n",
        "for n in range(0,degree+1):\n",
        "  y1_diff_cen_err = np.append(abs(derivative(y1,x,dx,n=n,order=5)-diff_cen(y1,x,dx,n)),y1_cen_err)\n",
        "  print(y1_diff_cen_err)"
      ],
      "execution_count": null,
      "outputs": [
        {
          "output_type": "stream",
          "text": [
            "Forward Finite Approximation Error\n",
            "[0.]\n",
            "[0.05338324]\n",
            "[0.01672951]\n",
            "[3.77343167]\n",
            "\n",
            "Backward Finite Approximation Error\n",
            "[0.]\n",
            "[0.05189238]\n",
            "[0.19563254]\n",
            "[7.84657499]\n",
            "\n",
            "Central Finite Approximation Error\n",
            "[0.]\n",
            "[0.05081147]\n",
            "[0.01516872]\n",
            "[223.76401096]\n"
          ],
          "name": "stdout"
        }
      ]
    },
    {
      "cell_type": "markdown",
      "metadata": {
        "id": "urdit0B25JLe"
      },
      "source": [
        "$$y_2 = \\cos(2x)+\\frac{x^2}{20}+e^{-2x}$$"
      ]
    },
    {
      "cell_type": "code",
      "metadata": {
        "colab": {
          "base_uri": "https://localhost:8080/"
        },
        "id": "2tBcFH9m4s_I",
        "outputId": "75d62e94-2c7e-4edb-ebd0-ac61aebf2957"
      },
      "source": [
        "y2_fwd_err, y2_bwd_err, y2_cen_err = [], [], []\n",
        "print('Forward Finite Approximation Error')\n",
        "for n in range(0,degree+1):\n",
        "  y2_diff_fwd_err = np.append(abs(derivative(y2,x,dx,n=n,order=5)-diff_fwd(y2,x,dx,n)),y2_fwd_err)\n",
        "  print(y2_diff_fwd_err)\n",
        "\n",
        "print('\\nBackward Finite Approximation Error')\n",
        "for n in range(0,degree+1):\n",
        "  y2_diff_bwd_err = np.append(abs(derivative(y2,x,dx,n=n,order=5)-diff_bwd(y2,x,dx,n)),y2_bwd_err)\n",
        "  print(y2_diff_bwd_err)\n",
        "\n",
        "print('\\nCentral Finite Approximation Error')\n",
        "for n in range(0,degree+1):\n",
        "  y2_diff_cen_err = np.append(abs(derivative(y2,x,dx,n=n,order=5)-diff_cen(y2,x,dx,n)),y2_cen_err)\n",
        "  print(y2_diff_cen_err)"
      ],
      "execution_count": null,
      "outputs": [
        {
          "output_type": "stream",
          "text": [
            "Forward Finite Approximation Error\n",
            "[0.]\n",
            "[0.01555904]\n",
            "[0.20707687]\n",
            "[2.07605171]\n",
            "\n",
            "Backward Finite Approximation Error\n",
            "[0.]\n",
            "[0.01140833]\n",
            "[0.29100831]\n",
            "[2.23916722]\n",
            "\n",
            "Central Finite Approximation Error\n",
            "[0.]\n",
            "[0.00962858]\n",
            "[0.0059951]\n",
            "[805.33639634]\n"
          ],
          "name": "stdout"
        }
      ]
    },
    {
      "cell_type": "markdown",
      "metadata": {
        "id": "eUINZ_MY_557"
      },
      "source": [
        "# Part 2"
      ]
    },
    {
      "cell_type": "markdown",
      "metadata": {
        "id": "xfVIHTio-TV3"
      },
      "source": [
        "$$y_1 = \\left(\\frac{4x^2+2x+1}{x+2e^x}\\right)^x$$\n",
        "\n"
      ]
    },
    {
      "cell_type": "code",
      "metadata": {
        "id": "dExtck2o91jm"
      },
      "source": [
        "x = Symbol('x')"
      ],
      "execution_count": null,
      "outputs": []
    },
    {
      "cell_type": "code",
      "metadata": {
        "colab": {
          "base_uri": "https://localhost:8080/",
          "height": 85
        },
        "id": "axEG6oH096mY",
        "outputId": "5dce26a1-7612-4fbd-9c95-8e8d92c04b78"
      },
      "source": [
        "def taylor(function, x0, n): \n",
        "    return function.series(x,x0,n).removeO()\n",
        "taylor(((4*x**2+2*x+1)/(x+2*sp.exp(x)))**x,2*np.pi,7)"
      ],
      "execution_count": null,
      "outputs": [
        {
          "output_type": "execute_result",
          "data": {
            "text/latex": "$\\displaystyle - 5.96992401727825 \\cdot 10^{-5} x + 19.4181331643363 \\left(0.159154943091895 x - 1\\right)^{6} - 4.15608064726146 \\left(0.159154943091895 x - 1\\right)^{5} + 0.675340254143445 \\left(0.159154943091895 x - 1\\right)^{4} - 0.0815699670902433 \\left(0.159154943091895 x - 1\\right)^{3} + 0.00695309609550114 \\left(0.159154943091895 x - 1\\right)^{2} + 0.000384769233017261$",
            "text/plain": [
              "-5.96992401727825e-5*x + 19.4181331643363*(0.159154943091895*x - 1)**6 - 4.15608064726146*(0.159154943091895*x - 1)**5 + 0.675340254143445*(0.159154943091895*x - 1)**4 - 0.0815699670902433*(0.159154943091895*x - 1)**3 + 0.00695309609550114*(0.159154943091895*x - 1)**2 + 0.000384769233017261"
            ]
          },
          "metadata": {
            "tags": []
          },
          "execution_count": 13
        }
      ]
    },
    {
      "cell_type": "code",
      "metadata": {
        "colab": {
          "base_uri": "https://localhost:8080/",
          "height": 279
        },
        "id": "vPOjszcS99v7",
        "outputId": "2dddb9b2-0776-45b2-a1b3-ba872d5d9d62"
      },
      "source": [
        "p = plot(taylor((4*x**2+2*x+1)/(x+2*sp.exp(x))**x,2*np.pi,1),\n",
        "         taylor((4*x**2+2*x+1)/(x+2*sp.exp(x))**x,2*np.pi,2),\n",
        "         taylor((4*x**2+2*x+1)/(x+2*sp.exp(x)**x),2*np.pi,3),\n",
        "         taylor((4*x**2+2*x+1)/(x+2*sp.exp(x)**x),2*np.pi,4),\n",
        "                (x,-2,2),legend=True, show=False)\n",
        "\n",
        "p[0].line_color = 'blue'\n",
        "p[1].line_color = 'green'\n",
        "p[2].line_color = 'firebrick'\n",
        "p[3].line_color = 'black'\n",
        "p.title = 'Taylor Series Expansion for y1'\n",
        "plt.figure(figsize=(10*3,6*3))\n",
        "p.show()"
      ],
      "execution_count": null,
      "outputs": [
        {
          "output_type": "stream",
          "text": [
            "/usr/local/lib/python3.7/dist-packages/sympy/plotting/plot.py:1406: UserWarning: Tight layout not applied. The left and right margins cannot be made large enough to accommodate all axes decorations. \n",
            "  self.fig.tight_layout()\n"
          ],
          "name": "stderr"
        },
        {
          "output_type": "display_data",
          "data": {
            "text/plain": [
              "<Figure size 2160x1296 with 0 Axes>"
            ]
          },
          "metadata": {
            "tags": []
          }
        },
        {
          "output_type": "display_data",
          "data": {
            "image/png": "[encoded data removed]",
            "text/plain": [
              "<Figure size 432x288 with 1 Axes>"
            ]
          },
          "metadata": {
            "tags": [],
            "needs_background": "light"
          }
        }
      ]
    },
    {
      "cell_type": "markdown",
      "metadata": {
        "id": "N_WWAnn5-lPn"
      },
      "source": [
        "$$y_2 = \\cos(2x)+\\frac{x^2}{20}+e^{-2x}$$"
      ]
    },
    {
      "cell_type": "code",
      "metadata": {
        "id": "4YVQzkhd-g3s",
        "colab": {
          "base_uri": "https://localhost:8080/",
          "height": 130
        },
        "outputId": "e6be70c2-2fc7-4af5-b0e5-24117f90dcb3"
      },
      "source": [
        "def taylor(function, x0, n):\n",
        "    return function.series(x,x0,n).removeO()\n",
        "taylor(sp.cos(2*x) + x**2/20 + sp.exp(-2*x),2*np.pi,7)  "
      ],
      "execution_count": null,
      "outputs": [
        {
          "output_type": "execute_result",
          "data": {
            "text/latex": "$\\displaystyle 0.628311556033247 x - 5469.21722812899 \\left(0.159154943091895 x - 1\\right)^{6} - 0.0091067341519832 \\left(0.159154943091895 x - 1\\right)^{5} + 1039.03392781708 \\left(0.159154943091895 x - 1\\right)^{4} - 0.00115338135456782 \\left(0.159154943091895 x - 1\\right)^{3} - 76.9826389789813 \\left(0.159154943091895 x - 1\\right)^{2} - 0.973873569639014$",
            "text/plain": [
              "0.628311556033247*x - 5469.21722812899*(0.159154943091895*x - 1)**6 - 0.0091067341519832*(0.159154943091895*x - 1)**5 + 1039.03392781708*(0.159154943091895*x - 1)**4 - 0.00115338135456782*(0.159154943091895*x - 1)**3 - 76.9826389789813*(0.159154943091895*x - 1)**2 - 0.973873569639014"
            ]
          },
          "metadata": {
            "tags": []
          },
          "execution_count": 15
        }
      ]
    },
    {
      "cell_type": "code",
      "metadata": {
        "colab": {
          "base_uri": "https://localhost:8080/",
          "height": 281
        },
        "id": "k6i68isgGD3b",
        "outputId": "fa973898-1986-4efb-bd50-52c06f2feb79"
      },
      "source": [
        "p = plot(taylor(sp.cos(2*x) + x**2/20 + sp.exp(-2*x),2*np.pi,1),taylor(sp.cos(2*x) + x**2/20 + sp.exp(-2*x),2*np.pi,2),taylor(sp.cos(2*x) + x**2/20 + sp.exp(-2*x),2*np.pi,3),taylor(sp.cos(2*x) + x**2/20 + sp.exp(-2*x),2*np.pi,4),\n",
        "                (x,-2,2),legend=True, show=False)\n",
        "\n",
        "p[0].line_color = 'blue'\n",
        "p[1].line_color = 'green'\n",
        "p[2].line_color = 'firebrick'\n",
        "p[3].line_color = 'black'\n",
        "p.title = 'Taylor Series Expansion for y2' \n",
        "plt.figure(figsize=(10*3,6*3))\n",
        "p.show()"
      ],
      "execution_count": null,
      "outputs": [
        {
          "output_type": "stream",
          "text": [
            "/usr/local/lib/python3.7/dist-packages/sympy/plotting/plot.py:1406: UserWarning: Tight layout not applied. The left and right margins cannot be made large enough to accommodate all axes decorations. \n",
            "  self.fig.tight_layout()\n"
          ],
          "name": "stderr"
        },
        {
          "output_type": "display_data",
          "data": {
            "text/plain": [
              "<Figure size 2160x1296 with 0 Axes>"
            ]
          },
          "metadata": {
            "tags": []
          }
        },
        {
          "output_type": "display_data",
          "data": {
            "image/png": "[encoded data removed]",
            "text/plain": [
              "<Figure size 432x288 with 1 Axes>"
            ]
          },
          "metadata": {
            "tags": [],
            "needs_background": "light"
          }
        }
      ]
    }
  ]
}