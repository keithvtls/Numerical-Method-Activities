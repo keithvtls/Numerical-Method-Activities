{
  "nbformat": 4,
  "nbformat_minor": 0,
  "metadata": {
    "colab": {
      "name": "CpE Programming 101.b - Python Fundamentals",
      "provenance": [],
      "collapsed_sections": [],
      "include_colab_link": true
    },
    "kernelspec": {
      "name": "python3",
      "display_name": "Python 3"
    }
  },
  "cells": [
    {
      "cell_type": "markdown",
      "metadata": {
        "id": "view-in-github",
        "colab_type": "text"
      },
      "source": [
        "<a href=\"https://colab.research.google.com/github/keithvtls/Numerical-Method-Activities/blob/main/Lecture/Week%201%20-%20Programming%20Fundamentals/CpE_Programming_101_b_Python_Fundamentals.ipynb\" target=\"_parent\"><img src=\"https://colab.research.google.com/assets/colab-badge.svg\" alt=\"Open In Colab\"/></a>"
      ]
    },
    {
      "cell_type": "markdown",
      "metadata": {
        "id": "QnAdk8hy7Bl9"
      },
      "source": [
        "# Welcome to Python Fundamentals\n",
        "In this module, we are going to establish or review our skills in Python programming. In this notebook we are going to cover:\n",
        "* Variables and Data Types \n",
        "* Operations\n",
        "* Input and Output Operations\n",
        "* Logic Control\n",
        "* Iterables\n",
        "* Functions"
      ]
    },
    {
      "cell_type": "markdown",
      "metadata": {
        "id": "T6ABRAjTT1Ta"
      },
      "source": [
        "## Variable and Data Types"
      ]
    },
    {
      "cell_type": "code",
      "metadata": {
        "id": "G8JI3DTZ616F"
      },
      "source": [
        "x = 1\n",
        "a,b = 0, -1"
      ],
      "execution_count": null,
      "outputs": []
    },
    {
      "cell_type": "code",
      "metadata": {
        "id": "QLT9rz2dUJ95"
      },
      "source": [
        "type(x)"
      ],
      "execution_count": null,
      "outputs": []
    },
    {
      "cell_type": "code",
      "metadata": {
        "id": "TR_rvX4SUWqx"
      },
      "source": [
        "y = 1.0\n",
        "type(y)"
      ],
      "execution_count": null,
      "outputs": []
    },
    {
      "cell_type": "code",
      "metadata": {
        "id": "FqV2upOiXcnC"
      },
      "source": [
        "x = float(x)\n",
        "type(x)"
      ],
      "execution_count": null,
      "outputs": []
    },
    {
      "cell_type": "code",
      "metadata": {
        "id": "2tuyqwmyXiDb"
      },
      "source": [
        "s,t,u = \"0\", '1', 'one'\n",
        "type(s)"
      ],
      "execution_count": null,
      "outputs": []
    },
    {
      "cell_type": "code",
      "metadata": {
        "id": "6JwWqHx3XlmB"
      },
      "source": [
        "s_int = int(s)\n",
        "s_int"
      ],
      "execution_count": null,
      "outputs": []
    },
    {
      "cell_type": "markdown",
      "metadata": {
        "id": "9RgPwQR4YVG5"
      },
      "source": [
        "## Operations"
      ]
    },
    {
      "cell_type": "markdown",
      "metadata": {
        "id": "mvoS_zuJYbsg"
      },
      "source": [
        "### Arithmetic"
      ]
    },
    {
      "cell_type": "code",
      "metadata": {
        "id": "DSjUO0KcYoE-"
      },
      "source": [
        "a,b,c,d = 2.0, -0.5, 0, -32"
      ],
      "execution_count": null,
      "outputs": []
    },
    {
      "cell_type": "code",
      "metadata": {
        "id": "o_kk0XFzYX9o"
      },
      "source": [
        "### Addition\n",
        "S = a+b\n",
        "S"
      ],
      "execution_count": null,
      "outputs": []
    },
    {
      "cell_type": "code",
      "metadata": {
        "id": "TC5oFq3MY4jk"
      },
      "source": [
        "### Subtraction\n",
        "D = b-d\n",
        "D"
      ],
      "execution_count": null,
      "outputs": []
    },
    {
      "cell_type": "code",
      "metadata": {
        "id": "j0bGayj5Y9wr"
      },
      "source": [
        "### Multiplication\n",
        "P = a*d\n",
        "P"
      ],
      "execution_count": null,
      "outputs": []
    },
    {
      "cell_type": "code",
      "metadata": {
        "id": "FnMWmq5LZLEU"
      },
      "source": [
        "### Division\n",
        "Q = c/a\n",
        "Q"
      ],
      "execution_count": null,
      "outputs": []
    },
    {
      "cell_type": "code",
      "metadata": {
        "id": "cQeVcFIWZd8o"
      },
      "source": [
        "### Floor Division\n",
        "Fq = a//b\n",
        "Fq"
      ],
      "execution_count": null,
      "outputs": []
    },
    {
      "cell_type": "code",
      "metadata": {
        "id": "YLaUu6APZSzR"
      },
      "source": [
        "### Exponentiation\n",
        "E = a**b\n",
        "E"
      ],
      "execution_count": null,
      "outputs": []
    },
    {
      "cell_type": "code",
      "metadata": {
        "id": "uf_0sf4CZ1JT"
      },
      "source": [
        "### Modulo\n",
        "mod = d%a\n",
        "mod"
      ],
      "execution_count": null,
      "outputs": []
    },
    {
      "cell_type": "markdown",
      "metadata": {
        "id": "afyWvb1ZaJJ6"
      },
      "source": [
        "### Assignment Operations"
      ]
    },
    {
      "cell_type": "code",
      "metadata": {
        "id": "rMZ8r4WhanaE"
      },
      "source": [
        "G, H, J, K = 0, 100, 2, 2"
      ],
      "execution_count": null,
      "outputs": []
    },
    {
      "cell_type": "code",
      "metadata": {
        "id": "IX0EbJ8RaMih"
      },
      "source": [
        "G += a\n",
        "G"
      ],
      "execution_count": null,
      "outputs": []
    },
    {
      "cell_type": "code",
      "metadata": {
        "id": "aIj4hA-JaRA0"
      },
      "source": [
        "H -= d"
      ],
      "execution_count": null,
      "outputs": []
    },
    {
      "cell_type": "code",
      "metadata": {
        "id": "vuuDbAbNaXgS"
      },
      "source": [
        "J *= 2\n",
        "J"
      ],
      "execution_count": null,
      "outputs": []
    },
    {
      "cell_type": "code",
      "metadata": {
        "id": "sGVXGduUaeAj"
      },
      "source": [
        "K **= 2\n",
        "K"
      ],
      "execution_count": null,
      "outputs": []
    },
    {
      "cell_type": "markdown",
      "metadata": {
        "id": "UGXuqhVNbW7R"
      },
      "source": [
        "### Comparators"
      ]
    },
    {
      "cell_type": "code",
      "metadata": {
        "id": "Oj9xLaEaYeuY"
      },
      "source": [
        "res_1, res_2, res_3 = 1, 2.0, \"1\"\n",
        "true_val = 1.0"
      ],
      "execution_count": null,
      "outputs": []
    },
    {
      "cell_type": "code",
      "metadata": {
        "id": "GEXm6RSsbA8Q"
      },
      "source": [
        "## Equality\n",
        "res_1 == true_val"
      ],
      "execution_count": null,
      "outputs": []
    },
    {
      "cell_type": "code",
      "metadata": {
        "id": "SdHk_b58bZhD"
      },
      "source": [
        "## Non-equality\n",
        "res_2 != true_val"
      ],
      "execution_count": null,
      "outputs": []
    },
    {
      "cell_type": "code",
      "metadata": {
        "id": "EnA4q50JbQB5"
      },
      "source": [
        "## Inequality\n",
        "t1 = res_1 > res_2\n",
        "t2 = res_1 < res_2/2\n",
        "t3 = res_1 >= res_2/2\n",
        "t4 = res_1 <= res_2  \n",
        "t1"
      ],
      "execution_count": null,
      "outputs": []
    },
    {
      "cell_type": "markdown",
      "metadata": {
        "id": "9WkfdvbfcC1Y"
      },
      "source": [
        "### Logical"
      ]
    },
    {
      "cell_type": "code",
      "metadata": {
        "id": "cYVG6YeNb-Gz"
      },
      "source": [
        "res_1 == true_val"
      ],
      "execution_count": null,
      "outputs": []
    },
    {
      "cell_type": "code",
      "metadata": {
        "id": "rLe6hpkHcN-z"
      },
      "source": [
        "res_1 is true_val"
      ],
      "execution_count": null,
      "outputs": []
    },
    {
      "cell_type": "code",
      "metadata": {
        "id": "tr5qxHQmcO-C"
      },
      "source": [
        "res_1 is not true_val"
      ],
      "execution_count": null,
      "outputs": []
    },
    {
      "cell_type": "code",
      "metadata": {
        "id": "3GU72N-Gcslz"
      },
      "source": [
        "p, q = True, False\n",
        "conj = p and q\n",
        "conj"
      ],
      "execution_count": null,
      "outputs": []
    },
    {
      "cell_type": "code",
      "metadata": {
        "id": "ihMxcT6KcvQj"
      },
      "source": [
        "p, q = True, False\n",
        "disj = p or q\n",
        "disj"
      ],
      "execution_count": null,
      "outputs": []
    },
    {
      "cell_type": "code",
      "metadata": {
        "id": "T-QfmeYgcyGQ"
      },
      "source": [
        "p, q = True, False\n",
        "nand = not(p and q)\n",
        "nand"
      ],
      "execution_count": null,
      "outputs": []
    },
    {
      "cell_type": "code",
      "metadata": {
        "id": "2HL7SlVbc10k"
      },
      "source": [
        "p, q = True, False\n",
        "xor = (not p and q) or (p and not q)\n",
        "xor"
      ],
      "execution_count": null,
      "outputs": []
    },
    {
      "cell_type": "markdown",
      "metadata": {
        "id": "AQx4DKafYffJ"
      },
      "source": [
        "### I/O"
      ]
    },
    {
      "cell_type": "code",
      "metadata": {
        "id": "Q-DVERG5Yk9w"
      },
      "source": [
        "print(\"Hello World\")"
      ],
      "execution_count": null,
      "outputs": []
    },
    {
      "cell_type": "code",
      "metadata": {
        "id": "fS5wN51beSVF"
      },
      "source": [
        "cnt = 1"
      ],
      "execution_count": null,
      "outputs": []
    },
    {
      "cell_type": "code",
      "metadata": {
        "id": "hKNaUXmdZdUo"
      },
      "source": [
        "string = \"Hello World\"\n",
        "print(string, \", Current run count is:\", cnt)\n",
        "cnt += 1"
      ],
      "execution_count": null,
      "outputs": []
    },
    {
      "cell_type": "code",
      "metadata": {
        "id": "15_WdzEZcOVX"
      },
      "source": [
        "print(f\"{string}, Current count is: {cnt}\")"
      ],
      "execution_count": null,
      "outputs": []
    },
    {
      "cell_type": "code",
      "metadata": {
        "id": "5m9XtFOPcOXo"
      },
      "source": [
        "sem_grade = 82.243564657461234\n",
        "name = \"\"\n",
        "print(\"Hello {}, your semestral grade is: {}\".format(name, sem_grade))"
      ],
      "execution_count": null,
      "outputs": []
    },
    {
      "cell_type": "code",
      "metadata": {
        "id": "SMJx6bTnfdgZ"
      },
      "source": [
        "w_pg, w_mg, w_fg = 0.3, 0.3, 0.4\n",
        "print(\"The weights of your semestral grades are:\\\n",
        "\\n\\t{:.2%} for Prelims\\\n",
        "\\n\\t{:.2%} for Midterms, and\\\n",
        "\\n\\t{:.2%} for Finals.\".format(w_pg, w_mg, w_fg))"
      ],
      "execution_count": null,
      "outputs": []
    },
    {
      "cell_type": "code",
      "metadata": {
        "id": "Ob2I_zR3jAcZ"
      },
      "source": [
        "x = input(\"enter a number: \")\n",
        "x"
      ],
      "execution_count": null,
      "outputs": []
    },
    {
      "cell_type": "code",
      "metadata": {
        "id": "T7ODFfcMh9Pg"
      },
      "source": [
        "name = input(\"Kimi no nawa: \")\n",
        "pg = input(\"Enter prelim grade: \")\n",
        "mg = input(\"Enter midterm grade: \")\n",
        "fg = input(\"Enter finals grade: \")\n",
        "sem_grade = None\n",
        "print(\"Hello {}, your semestral grade is: {}\".format(name, sem_grade))"
      ],
      "execution_count": null,
      "outputs": []
    },
    {
      "cell_type": "markdown",
      "metadata": {
        "id": "i0g3EothhvqL"
      },
      "source": [
        "# Looping Statements"
      ]
    },
    {
      "cell_type": "markdown",
      "metadata": {
        "id": "j4w90VAIjcFJ"
      },
      "source": [
        "## While"
      ]
    },
    {
      "cell_type": "code",
      "metadata": {
        "id": "4vtSrBPThlse"
      },
      "source": [
        "## while loops\n",
        "i, j = 0, 10\n",
        "while(i<=j):\n",
        "    print(f\"{i}\\t|\\t{j}\")\n",
        "    i+=1"
      ],
      "execution_count": null,
      "outputs": []
    },
    {
      "cell_type": "markdown",
      "metadata": {
        "id": "Qz6AH6jRjfUg"
      },
      "source": [
        "## For"
      ]
    },
    {
      "cell_type": "code",
      "metadata": {
        "id": "q0DUwfRkjZY7"
      },
      "source": [
        "# for(int i=0; i<10; i++){\n",
        "# printf(i)\n",
        "# }\n",
        "\n",
        "i=0\n",
        "for i in range(10):\n",
        "    print(i)"
      ],
      "execution_count": null,
      "outputs": []
    },
    {
      "cell_type": "code",
      "metadata": {
        "id": "zaM--lUhjiUg"
      },
      "source": [
        "playlist = []\n",
        "print('Now Playing:\\n')\n",
        "for song in playlist:\n",
        "    print(song)"
      ],
      "execution_count": null,
      "outputs": []
    },
    {
      "cell_type": "markdown",
      "metadata": {
        "id": "N6jTqTZojnSg"
      },
      "source": [
        "# Flow Control"
      ]
    },
    {
      "cell_type": "markdown",
      "metadata": {
        "id": "uhnsV2CijrWQ"
      },
      "source": [
        "## Condition Statements"
      ]
    },
    {
      "cell_type": "code",
      "metadata": {
        "id": "seJplrJojmTg"
      },
      "source": [
        "numeral1, numeral2 = 12, 12\n",
        "if(numeral1 == numeral2):\n",
        "    print(\"Yey\")\n",
        "elif(numeral1>numeral2):\n",
        "    print(\"Hoho\")\n",
        "else:\n",
        "    print(\"Aww\")\n",
        "print(\"Hip hip\")"
      ],
      "execution_count": null,
      "outputs": []
    },
    {
      "cell_type": "markdown",
      "metadata": {
        "id": "tlnG1OKilNLo"
      },
      "source": [
        "# Functions"
      ]
    },
    {
      "cell_type": "code",
      "metadata": {
        "id": "1iMUEipnlUKY"
      },
      "source": [
        "# void DeleteUser(int userid){\n",
        "#     delete(userid);\n",
        "# }\n",
        "\n",
        "def delete_user (userid):\n",
        "    print(\"Successfully deleted user: {}\".format(userid))\n",
        "    \n",
        "def delete_all_users ():\n",
        "    print(\"Successfully deleted all users\")"
      ],
      "execution_count": null,
      "outputs": []
    },
    {
      "cell_type": "code",
      "metadata": {
        "id": "v_TkrftylUEA"
      },
      "source": [
        "userid = 0\n",
        "delete_user(0)\n",
        "delete_all_users()"
      ],
      "execution_count": null,
      "outputs": []
    },
    {
      "cell_type": "code",
      "metadata": {
        "id": "M0ffjw31lT8Y"
      },
      "source": [
        "def add(addend1, addend2):\n",
        "    return addend1 + addend2\n",
        "\n",
        "def power_of_base2(exponent):\n",
        "    return 2**exponent"
      ],
      "execution_count": null,
      "outputs": []
    },
    {
      "cell_type": "markdown",
      "metadata": {
        "id": "2_tDT01oFEGQ"
      },
      "source": [
        "### Lambda Functions"
      ]
    },
    {
      "cell_type": "code",
      "metadata": {
        "id": "tmmBNW9pFg-4"
      },
      "source": [
        "x = 4"
      ],
      "execution_count": null,
      "outputs": []
    },
    {
      "cell_type": "code",
      "metadata": {
        "id": "_9KYzCrIFCpI"
      },
      "source": [
        "def f(x):\n",
        "  return 2*(x*x)-1\n",
        "f(x)"
      ],
      "execution_count": null,
      "outputs": []
    },
    {
      "cell_type": "code",
      "metadata": {
        "id": "a2uwKwqFFafn"
      },
      "source": [
        "g = lambda x: 2*(x*x)-1\n",
        "print(g(x))"
      ],
      "execution_count": null,
      "outputs": []
    },
    {
      "cell_type": "code",
      "metadata": {
        "id": "Rjm9RFrGlMgA"
      },
      "source": [
        "'''\n",
        "Create a grade calculator that computes for the semestral grade of a course.\n",
        "Students could type their names, the name of the course, then their prelim,\n",
        "midterm, and final grade.\n",
        "The program should print the semestral grade in 2 decimal points and should\n",
        "display the following emojis depending on the situation:\n",
        "happy - when grade is greater than 70.00\n",
        "laughing - when grade is exactly 70.00\n",
        "sad - when grade is below 70.00\n",
        "'''\n",
        "happy, lol, sad = \"\\U0001F600\",\"\\U0001F923\",\"\\U0001F619\""
      ],
      "execution_count": null,
      "outputs": []
    }
  ]
}